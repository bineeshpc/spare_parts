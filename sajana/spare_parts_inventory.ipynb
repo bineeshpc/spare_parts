{
 "cells": [
  {
   "cell_type": "code",
   "execution_count": 3,
   "metadata": {},
   "outputs": [
    {
     "data": {
      "text/html": [
       "<div>\n",
       "<style scoped>\n",
       "    .dataframe tbody tr th:only-of-type {\n",
       "        vertical-align: middle;\n",
       "    }\n",
       "\n",
       "    .dataframe tbody tr th {\n",
       "        vertical-align: top;\n",
       "    }\n",
       "\n",
       "    .dataframe thead th {\n",
       "        text-align: right;\n",
       "    }\n",
       "</style>\n",
       "<table border=\"1\" class=\"dataframe\">\n",
       "  <thead>\n",
       "    <tr style=\"text-align: right;\">\n",
       "      <th></th>\n",
       "      <th>Invoice Date</th>\n",
       "      <th>Job Card Date</th>\n",
       "      <th>Business Partner Name</th>\n",
       "      <th>Vehicle No.</th>\n",
       "      <th>Vehicle Model</th>\n",
       "      <th>Current KM Reading</th>\n",
       "      <th>INVOICE LINE TEXT</th>\n",
       "    </tr>\n",
       "  </thead>\n",
       "  <tbody>\n",
       "    <tr>\n",
       "      <th>0</th>\n",
       "      <td>2017-05-30</td>\n",
       "      <td>2017-05-30</td>\n",
       "      <td>shivXXXXXXXXXX</td>\n",
       "      <td>KA03MFXXXX</td>\n",
       "      <td>BAJAJ AVENGER STREET 220</td>\n",
       "      <td>50000.0</td>\n",
       "      <td>ENGINE OIL</td>\n",
       "    </tr>\n",
       "    <tr>\n",
       "      <th>1</th>\n",
       "      <td>2017-06-02</td>\n",
       "      <td>2017-05-31</td>\n",
       "      <td>KIRAXXXXXXXXXX</td>\n",
       "      <td>KA53ESXXXX</td>\n",
       "      <td>BAJAJ PULSAR NS 200</td>\n",
       "      <td>758.0</td>\n",
       "      <td>ENGINE OIL</td>\n",
       "    </tr>\n",
       "  </tbody>\n",
       "</table>\n",
       "</div>"
      ],
      "text/plain": [
       "  Invoice Date Job Card Date Business Partner Name Vehicle No.  \\\n",
       "0   2017-05-30    2017-05-30        shivXXXXXXXXXX  KA03MFXXXX   \n",
       "1   2017-06-02    2017-05-31        KIRAXXXXXXXXXX  KA53ESXXXX   \n",
       "\n",
       "              Vehicle Model  Current KM Reading INVOICE LINE TEXT  \n",
       "0  BAJAJ AVENGER STREET 220             50000.0        ENGINE OIL  \n",
       "1       BAJAJ PULSAR NS 200               758.0        ENGINE OIL  "
      ]
     },
     "execution_count": 3,
     "metadata": {},
     "output_type": "execute_result"
    }
   ],
   "source": [
    "import pandas as pd\n",
    "import numpy as np\n",
    "import string\n",
    "data = pd.read_excel('service-data.xlsx')\n",
    "data.head(2)"
   ]
  },
  {
   "cell_type": "code",
   "execution_count": 4,
   "metadata": {},
   "outputs": [
    {
     "data": {
      "text/plain": [
       "Invoice Date              2\n",
       "Job Card Date             2\n",
       "Business Partner Name     0\n",
       "Vehicle No.               0\n",
       "Vehicle Model             2\n",
       "Current KM Reading        2\n",
       "INVOICE LINE TEXT        35\n",
       "dtype: int64"
      ]
     },
     "execution_count": 4,
     "metadata": {},
     "output_type": "execute_result"
    }
   ],
   "source": [
    "data.head(5)\n",
    "data.isnull().sum()\n"
   ]
  },
  {
   "cell_type": "code",
   "execution_count": 5,
   "metadata": {},
   "outputs": [
    {
     "name": "stdout",
     "output_type": "stream",
     "text": [
      "<class 'pandas.core.frame.DataFrame'>\n",
      "RangeIndex: 28484 entries, 0 to 28483\n",
      "Data columns (total 7 columns):\n",
      "Invoice Date             28482 non-null datetime64[ns]\n",
      "Job Card Date            28482 non-null datetime64[ns]\n",
      "Business Partner Name    28484 non-null object\n",
      "Vehicle No.              28484 non-null object\n",
      "Vehicle Model            28482 non-null object\n",
      "Current KM Reading       28482 non-null float64\n",
      "INVOICE LINE TEXT        28449 non-null object\n",
      "dtypes: datetime64[ns](2), float64(1), object(4)\n",
      "memory usage: 1.5+ MB\n"
     ]
    }
   ],
   "source": [
    "data.info()"
   ]
  },
  {
   "cell_type": "code",
   "execution_count": 6,
   "metadata": {},
   "outputs": [],
   "source": [
    "#alphabet = '$?*-'\n",
    "#df = pd.DataFrame({'col1':['abc', 'hello?'], 'col2': ['ÃÉG', 'Ç']})\n",
    "\n",
    "#string_columns = ['Business Partner Name', 'Vehicle No.', 'Vehicle Model', 'INVOICE LINE TEXT']\n",
    "#for i in string_columns:\n",
    " #   x = data[i].str.strip(alphabet).astype(bool).any()\n",
    " #   print(i, x)\n",
    "    "
   ]
  },
  {
   "cell_type": "code",
   "execution_count": 7,
   "metadata": {},
   "outputs": [],
   "source": [
    "#invoice = data[i].str.find('?')\n",
    "#print(invoice.size)\n",
    "#invoice.sum()\n"
   ]
  },
  {
   "cell_type": "code",
   "execution_count": 8,
   "metadata": {},
   "outputs": [],
   "source": [
    "#df = pd.DataFrame(\n",
    "#{'a': ['1', '2$', float('NaN')],\n",
    "#'b': [1, 2, 3]\n",
    "#}\n",
    "#)\n",
    "\n",
    "#df.a.str.find('$')"
   ]
  },
  {
   "cell_type": "code",
   "execution_count": 18,
   "metadata": {},
   "outputs": [
    {
     "data": {
      "text/html": [
       "<div>\n",
       "<style scoped>\n",
       "    .dataframe tbody tr th:only-of-type {\n",
       "        vertical-align: middle;\n",
       "    }\n",
       "\n",
       "    .dataframe tbody tr th {\n",
       "        vertical-align: top;\n",
       "    }\n",
       "\n",
       "    .dataframe thead th {\n",
       "        text-align: right;\n",
       "    }\n",
       "</style>\n",
       "<table border=\"1\" class=\"dataframe\">\n",
       "  <thead>\n",
       "    <tr style=\"text-align: right;\">\n",
       "      <th></th>\n",
       "      <th>Invoice Date</th>\n",
       "      <th>Job Card Date</th>\n",
       "      <th>Business Partner Name</th>\n",
       "      <th>Vehicle No.</th>\n",
       "      <th>Vehicle Model</th>\n",
       "      <th>Current KM Reading</th>\n",
       "      <th>INVOICE LINE TEXT</th>\n",
       "    </tr>\n",
       "  </thead>\n",
       "  <tbody>\n",
       "    <tr>\n",
       "      <th>0</th>\n",
       "      <td>2017-05-30</td>\n",
       "      <td>2017-05-30</td>\n",
       "      <td>shivXXXXXXXXXX</td>\n",
       "      <td>KA03MFXXXX</td>\n",
       "      <td>BAJAJ AVENGER STREET 220</td>\n",
       "      <td>50000.0</td>\n",
       "      <td>ENGINE OIL</td>\n",
       "    </tr>\n",
       "    <tr>\n",
       "      <th>1</th>\n",
       "      <td>2017-06-02</td>\n",
       "      <td>2017-05-31</td>\n",
       "      <td>KIRAXXXXXXXXXX</td>\n",
       "      <td>KA53ESXXXX</td>\n",
       "      <td>BAJAJ PULSAR NS 200</td>\n",
       "      <td>758.0</td>\n",
       "      <td>ENGINE OIL</td>\n",
       "    </tr>\n",
       "    <tr>\n",
       "      <th>2</th>\n",
       "      <td>2017-06-02</td>\n",
       "      <td>2017-05-31</td>\n",
       "      <td>KIRAXXXXXXXXXX</td>\n",
       "      <td>KA53ESXXXX</td>\n",
       "      <td>BAJAJ PULSAR NS 200</td>\n",
       "      <td>758.0</td>\n",
       "      <td>POLISH</td>\n",
       "    </tr>\n",
       "    <tr>\n",
       "      <th>3</th>\n",
       "      <td>2017-06-02</td>\n",
       "      <td>2017-05-31</td>\n",
       "      <td>KIRAXXXXXXXXXX</td>\n",
       "      <td>KA53ESXXXX</td>\n",
       "      <td>BAJAJ PULSAR NS 200</td>\n",
       "      <td>758.0</td>\n",
       "      <td>CONSUMABLES</td>\n",
       "    </tr>\n",
       "    <tr>\n",
       "      <th>4</th>\n",
       "      <td>2017-06-02</td>\n",
       "      <td>2017-05-31</td>\n",
       "      <td>KIRAXXXXXXXXXX</td>\n",
       "      <td>KA53ESXXXX</td>\n",
       "      <td>BAJAJ PULSAR NS 200</td>\n",
       "      <td>758.0</td>\n",
       "      <td>COOLANT OIL</td>\n",
       "    </tr>\n",
       "  </tbody>\n",
       "</table>\n",
       "</div>"
      ],
      "text/plain": [
       "  Invoice Date Job Card Date Business Partner Name Vehicle No.  \\\n",
       "0   2017-05-30    2017-05-30        shivXXXXXXXXXX  KA03MFXXXX   \n",
       "1   2017-06-02    2017-05-31        KIRAXXXXXXXXXX  KA53ESXXXX   \n",
       "2   2017-06-02    2017-05-31        KIRAXXXXXXXXXX  KA53ESXXXX   \n",
       "3   2017-06-02    2017-05-31        KIRAXXXXXXXXXX  KA53ESXXXX   \n",
       "4   2017-06-02    2017-05-31        KIRAXXXXXXXXXX  KA53ESXXXX   \n",
       "\n",
       "              Vehicle Model  Current KM Reading INVOICE LINE TEXT  \n",
       "0  BAJAJ AVENGER STREET 220             50000.0        ENGINE OIL  \n",
       "1       BAJAJ PULSAR NS 200               758.0        ENGINE OIL  \n",
       "2       BAJAJ PULSAR NS 200               758.0            POLISH  \n",
       "3       BAJAJ PULSAR NS 200               758.0       CONSUMABLES  \n",
       "4       BAJAJ PULSAR NS 200               758.0       COOLANT OIL  "
      ]
     },
     "execution_count": 18,
     "metadata": {},
     "output_type": "execute_result"
    }
   ],
   "source": [
    "data.head()"
   ]
  },
  {
   "cell_type": "code",
   "execution_count": 10,
   "metadata": {},
   "outputs": [],
   "source": [
    "# get total missing values\n",
    "missing_val = data.isnull().sum().sum()"
   ]
  },
  {
   "cell_type": "code",
   "execution_count": 11,
   "metadata": {},
   "outputs": [
    {
     "name": "stdout",
     "output_type": "stream",
     "text": [
      "28484\n",
      "0.15096194354725462\n"
     ]
    }
   ],
   "source": [
    "total_records = data.shape[0]\n",
    "print(total_records)\n",
    "missing_perc = (missing_val / total_records) * 100\n",
    "print(missing_perc)"
   ]
  },
  {
   "cell_type": "code",
   "execution_count": 12,
   "metadata": {},
   "outputs": [
    {
     "data": {
      "text/plain": [
       "Invoice Date             0\n",
       "Job Card Date            0\n",
       "Business Partner Name    0\n",
       "Vehicle No.              0\n",
       "Vehicle Model            0\n",
       "Current KM Reading       0\n",
       "INVOICE LINE TEXT        0\n",
       "dtype: int64"
      ]
     },
     "execution_count": 12,
     "metadata": {},
     "output_type": "execute_result"
    }
   ],
   "source": [
    "# since missing perc is < 5 , drop records with missing values.\n",
    "data.dropna(inplace=True)\n",
    "\n",
    "data.isnull().sum()"
   ]
  },
  {
   "cell_type": "code",
   "execution_count": 20,
   "metadata": {},
   "outputs": [
    {
     "data": {
      "text/html": [
       "<div>\n",
       "<style scoped>\n",
       "    .dataframe tbody tr th:only-of-type {\n",
       "        vertical-align: middle;\n",
       "    }\n",
       "\n",
       "    .dataframe tbody tr th {\n",
       "        vertical-align: top;\n",
       "    }\n",
       "\n",
       "    .dataframe thead th {\n",
       "        text-align: right;\n",
       "    }\n",
       "</style>\n",
       "<table border=\"1\" class=\"dataframe\">\n",
       "  <thead>\n",
       "    <tr style=\"text-align: right;\">\n",
       "      <th></th>\n",
       "      <th>Invoice Date</th>\n",
       "      <th>Job Card Date</th>\n",
       "      <th>Business Partner Name</th>\n",
       "      <th>Vehicle No.</th>\n",
       "      <th>Vehicle Model</th>\n",
       "      <th>Current KM Reading</th>\n",
       "      <th>sales</th>\n",
       "    </tr>\n",
       "  </thead>\n",
       "  <tbody>\n",
       "    <tr>\n",
       "      <th>0</th>\n",
       "      <td>2017-05-30</td>\n",
       "      <td>2017-05-30</td>\n",
       "      <td>shivXXXXXXXXXX</td>\n",
       "      <td>KA03MFXXXX</td>\n",
       "      <td>BAJAJ AVENGER STREET 220</td>\n",
       "      <td>50000.0</td>\n",
       "      <td>ENGINE OIL</td>\n",
       "    </tr>\n",
       "    <tr>\n",
       "      <th>1</th>\n",
       "      <td>2017-06-02</td>\n",
       "      <td>2017-05-31</td>\n",
       "      <td>KIRAXXXXXXXXXX</td>\n",
       "      <td>KA53ESXXXX</td>\n",
       "      <td>BAJAJ PULSAR NS 200</td>\n",
       "      <td>758.0</td>\n",
       "      <td>ENGINE OIL</td>\n",
       "    </tr>\n",
       "    <tr>\n",
       "      <th>2</th>\n",
       "      <td>2017-06-02</td>\n",
       "      <td>2017-05-31</td>\n",
       "      <td>KIRAXXXXXXXXXX</td>\n",
       "      <td>KA53ESXXXX</td>\n",
       "      <td>BAJAJ PULSAR NS 200</td>\n",
       "      <td>758.0</td>\n",
       "      <td>POLISH</td>\n",
       "    </tr>\n",
       "    <tr>\n",
       "      <th>3</th>\n",
       "      <td>2017-06-02</td>\n",
       "      <td>2017-05-31</td>\n",
       "      <td>KIRAXXXXXXXXXX</td>\n",
       "      <td>KA53ESXXXX</td>\n",
       "      <td>BAJAJ PULSAR NS 200</td>\n",
       "      <td>758.0</td>\n",
       "      <td>CONSUMABLES</td>\n",
       "    </tr>\n",
       "    <tr>\n",
       "      <th>4</th>\n",
       "      <td>2017-06-02</td>\n",
       "      <td>2017-05-31</td>\n",
       "      <td>KIRAXXXXXXXXXX</td>\n",
       "      <td>KA53ESXXXX</td>\n",
       "      <td>BAJAJ PULSAR NS 200</td>\n",
       "      <td>758.0</td>\n",
       "      <td>COOLANT OIL</td>\n",
       "    </tr>\n",
       "    <tr>\n",
       "      <th>5</th>\n",
       "      <td>2017-06-02</td>\n",
       "      <td>2017-05-31</td>\n",
       "      <td>KIRAXXXXXXXXXX</td>\n",
       "      <td>KA53ESXXXX</td>\n",
       "      <td>BAJAJ PULSAR NS 200</td>\n",
       "      <td>758.0</td>\n",
       "      <td>CHAIN LUBRICATION</td>\n",
       "    </tr>\n",
       "    <tr>\n",
       "      <th>6</th>\n",
       "      <td>2017-06-02</td>\n",
       "      <td>2017-05-31</td>\n",
       "      <td>KIRAXXXXXXXXXX</td>\n",
       "      <td>KA53ESXXXX</td>\n",
       "      <td>BAJAJ PULSAR NS 200</td>\n",
       "      <td>758.0</td>\n",
       "      <td>4 WAY SWITCH</td>\n",
       "    </tr>\n",
       "    <tr>\n",
       "      <th>7</th>\n",
       "      <td>2017-05-31</td>\n",
       "      <td>2017-05-31</td>\n",
       "      <td>pattXXXXXXXXXX</td>\n",
       "      <td>KA53EMXXXX</td>\n",
       "      <td>BAJAJ PLATINA</td>\n",
       "      <td>3717.0</td>\n",
       "      <td>ENGINE OIL</td>\n",
       "    </tr>\n",
       "    <tr>\n",
       "      <th>8</th>\n",
       "      <td>2017-05-31</td>\n",
       "      <td>2017-05-31</td>\n",
       "      <td>pattXXXXXXXXXX</td>\n",
       "      <td>KA53EMXXXX</td>\n",
       "      <td>BAJAJ PLATINA</td>\n",
       "      <td>3717.0</td>\n",
       "      <td>3M OIL</td>\n",
       "    </tr>\n",
       "    <tr>\n",
       "      <th>9</th>\n",
       "      <td>2017-05-31</td>\n",
       "      <td>2017-05-31</td>\n",
       "      <td>pattXXXXXXXXXX</td>\n",
       "      <td>KA53EMXXXX</td>\n",
       "      <td>BAJAJ PLATINA</td>\n",
       "      <td>3717.0</td>\n",
       "      <td>CHAIN LUBRICATION</td>\n",
       "    </tr>\n",
       "  </tbody>\n",
       "</table>\n",
       "</div>"
      ],
      "text/plain": [
       "  Invoice Date Job Card Date Business Partner Name Vehicle No.  \\\n",
       "0   2017-05-30    2017-05-30        shivXXXXXXXXXX  KA03MFXXXX   \n",
       "1   2017-06-02    2017-05-31        KIRAXXXXXXXXXX  KA53ESXXXX   \n",
       "2   2017-06-02    2017-05-31        KIRAXXXXXXXXXX  KA53ESXXXX   \n",
       "3   2017-06-02    2017-05-31        KIRAXXXXXXXXXX  KA53ESXXXX   \n",
       "4   2017-06-02    2017-05-31        KIRAXXXXXXXXXX  KA53ESXXXX   \n",
       "5   2017-06-02    2017-05-31        KIRAXXXXXXXXXX  KA53ESXXXX   \n",
       "6   2017-06-02    2017-05-31        KIRAXXXXXXXXXX  KA53ESXXXX   \n",
       "7   2017-05-31    2017-05-31        pattXXXXXXXXXX  KA53EMXXXX   \n",
       "8   2017-05-31    2017-05-31        pattXXXXXXXXXX  KA53EMXXXX   \n",
       "9   2017-05-31    2017-05-31        pattXXXXXXXXXX  KA53EMXXXX   \n",
       "\n",
       "              Vehicle Model  Current KM Reading              sales  \n",
       "0  BAJAJ AVENGER STREET 220             50000.0         ENGINE OIL  \n",
       "1       BAJAJ PULSAR NS 200               758.0         ENGINE OIL  \n",
       "2       BAJAJ PULSAR NS 200               758.0             POLISH  \n",
       "3       BAJAJ PULSAR NS 200               758.0        CONSUMABLES  \n",
       "4       BAJAJ PULSAR NS 200               758.0        COOLANT OIL  \n",
       "5       BAJAJ PULSAR NS 200               758.0  CHAIN LUBRICATION  \n",
       "6       BAJAJ PULSAR NS 200               758.0       4 WAY SWITCH  \n",
       "7             BAJAJ PLATINA              3717.0         ENGINE OIL  \n",
       "8             BAJAJ PLATINA              3717.0             3M OIL  \n",
       "9             BAJAJ PLATINA              3717.0  CHAIN LUBRICATION  "
      ]
     },
     "execution_count": 20,
     "metadata": {},
     "output_type": "execute_result"
    }
   ],
   "source": [
    "#data.head()\n",
    "data_cols = list(data.columns)\n",
    "data_cols[6] = 'sales'\n",
    "data.columns = data_cols\n",
    "data.head(10)"
   ]
  },
  {
   "cell_type": "code",
   "execution_count": 34,
   "metadata": {},
   "outputs": [
    {
     "data": {
      "text/plain": [
       "ENGINE OIL                 3802\n",
       "CHAIN LUBRICATION          3441\n",
       "GENERAL SERVICE            2142\n",
       "AIR FILTER                 1715\n",
       "3M OIL                     1628\n",
       "CONSUMABLES                1595\n",
       "POLISH                     1245\n",
       "DISC OIL                    991\n",
       "BRAKE SHOE                  965\n",
       "OIL FILTER                  821\n",
       "DISC PAD                    575\n",
       "WHEEL RUBBER                521\n",
       "AIR FILTER CHECKUP          467\n",
       "SPARK PLUG                  421\n",
       "CHAIN SPROCKET              396\n",
       "SPROCKET RUBBER             347\n",
       "SPROCKET BEARING            314\n",
       "CHAIN OVERHAUL              284\n",
       "CLUTCH CABLE                263\n",
       "CLUTCH ASSEMBLY             212\n",
       "CLUTCH COVER GASKET         190\n",
       "CLUTCH OVERHUAL             163\n",
       "TANK COVER                  134\n",
       "LABOUR                      131\n",
       "SEAT COVER                  119\n",
       "INDICATOR                   110\n",
       "DISC PUMP KIT               104\n",
       "DRUM BOLT                   103\n",
       "TAIL LAMP BULB              101\n",
       "FOOT REST                    99\n",
       "                           ... \n",
       "LIGHTING COIL                 1\n",
       "YOKE SET                      1\n",
       "HANDLEBAR RUBBER              1\n",
       "REAR TAIL LAMP GRILL          1\n",
       "BORE                          1\n",
       "ENGINE OVERHUAL               1\n",
       "HELMET                        1\n",
       "DRUM                          1\n",
       "TANK  RUBBER                  1\n",
       "STAND RUBBER                  1\n",
       "WIRING CHECK WITH LABOR       1\n",
       "SWITCH                        1\n",
       "FUEL TAP                      1\n",
       "CLUTCH OUTLET PIPE            1\n",
       "CALIPER RUBBER KIT            1\n",
       "STOPPER                       1\n",
       "ONE WAY BODY                  1\n",
       "BODY COVER                    1\n",
       "U BUSH                        1\n",
       "LEVER BOLT                    1\n",
       "BRAKE BUSH KIT                1\n",
       "HEAD LIGHT WIRING             1\n",
       "RADIATOR FAN                  1\n",
       "HANDLE BAR LIGHT              1\n",
       "POWER COIL                    1\n",
       "GEAR LEVER BUSH               1\n",
       "BATTERY TARMINAL              1\n",
       "GEAR BOX OIL                  1\n",
       "CLUTCH ADJUSTMENT             1\n",
       "DISK PLATE                    1\n",
       "Name: sales, Length: 502, dtype: int64"
      ]
     },
     "execution_count": 34,
     "metadata": {},
     "output_type": "execute_result"
    }
   ],
   "source": [
    "data_groups = data.groupby('sales')\n",
    "data_groups\n",
    "data['sales'].value_counts()"
   ]
  },
  {
   "cell_type": "code",
   "execution_count": 39,
   "metadata": {},
   "outputs": [
    {
     "data": {
      "text/plain": [
       "invoice_month_year\n",
       "2017-05      11\n",
       "2017-06    1341\n",
       "2017-07    1177\n",
       "2017-08     971\n",
       "2017-09    1264\n",
       "2017-10    1054\n",
       "2017-11    1376\n",
       "2017-12    1345\n",
       "2018-01     998\n",
       "2018-02    1328\n",
       "2018-03    1483\n",
       "2018-04    1405\n",
       "2018-05    1447\n",
       "2018-06    1599\n",
       "2018-07    1550\n",
       "2018-08    1588\n",
       "2018-09    2000\n",
       "2018-10    2123\n",
       "2018-11    1780\n",
       "2018-12    2257\n",
       "2019-01     351\n",
       "Freq: M, Name: sales, dtype: int64"
      ]
     },
     "execution_count": 39,
     "metadata": {},
     "output_type": "execute_result"
    }
   ],
   "source": [
    "data.head(10)\n",
    "#data.info()\n",
    "#data['sales'] = data['sales'].apply(pd.to_numeric)\n",
    "#data['sales'] = data['sales'].astype(int64)\n",
    "\n",
    "#mycount\n",
    "# converting invoice date to invoice month and year\n",
    "import datetime\n",
    "\n",
    "data['invoice_month_year'] = pd.to_datetime(data['Invoice Date']).dt.to_period('M')\n",
    "data.head(5)\n",
    "mycount = data.groupby('invoice_month_year')['sales'].count()\n",
    "mycount"
   ]
  },
  {
   "cell_type": "code",
   "execution_count": 48,
   "metadata": {},
   "outputs": [],
   "source": [
    "check = data.groupby([\"sales\",\"invoice_month_year\"]).size().reset_index(name=\"monthly_sales\")\n",
    "#check\n",
    "#check['sales']\n",
    "parts_name = check['sales'].unique()"
   ]
  },
  {
   "cell_type": "code",
   "execution_count": 50,
   "metadata": {},
   "outputs": [],
   "source": [
    "sales_data = pd.DataFrame()\n",
    "for i in parts_name :\n",
    "    sales_data[i] = ''\n",
    "    \n",
    "new_cols = list(sales_data.columns)\n",
    "#new_cols"
   ]
  },
  {
   "cell_type": "code",
   "execution_count": 51,
   "metadata": {},
   "outputs": [
    {
     "data": {
      "text/html": [
       "<div>\n",
       "<style scoped>\n",
       "    .dataframe tbody tr th:only-of-type {\n",
       "        vertical-align: middle;\n",
       "    }\n",
       "\n",
       "    .dataframe tbody tr th {\n",
       "        vertical-align: top;\n",
       "    }\n",
       "\n",
       "    .dataframe thead th {\n",
       "        text-align: right;\n",
       "    }\n",
       "</style>\n",
       "<table border=\"1\" class=\"dataframe\">\n",
       "  <thead>\n",
       "    <tr style=\"text-align: right;\">\n",
       "      <th></th>\n",
       "      <th>10 SIZE NUT</th>\n",
       "      <th>12 SIZE BOLT</th>\n",
       "      <th>3M OIL</th>\n",
       "      <th>4 WAY SWITCH</th>\n",
       "      <th>6004 BEARING</th>\n",
       "      <th>6202 BEARING</th>\n",
       "      <th>6303 BEARING</th>\n",
       "      <th>8 SIZE BOLT</th>\n",
       "      <th>ACCELATOR CABLE</th>\n",
       "      <th>ADD ON FEES</th>\n",
       "      <th>...</th>\n",
       "      <th>WIRING KIT</th>\n",
       "      <th>WIRING LABOUR</th>\n",
       "      <th>YOKE</th>\n",
       "      <th>YOKE LEVER</th>\n",
       "      <th>YOKE RUBBER</th>\n",
       "      <th>YOKE SET</th>\n",
       "      <th>bore kit</th>\n",
       "      <th>clutch cable</th>\n",
       "      <th>handle weight</th>\n",
       "      <th>tyre</th>\n",
       "    </tr>\n",
       "  </thead>\n",
       "  <tbody>\n",
       "  </tbody>\n",
       "</table>\n",
       "<p>0 rows × 502 columns</p>\n",
       "</div>"
      ],
      "text/plain": [
       "Empty DataFrame\n",
       "Columns: [10 SIZE NUT, 12 SIZE BOLT, 3M OIL, 4 WAY SWITCH, 6004 BEARING, 6202 BEARING, 6303 BEARING, 8 SIZE BOLT, ACCELATOR CABLE, ADD ON FEES, AIR FILTER, AIR FILTER CHECKUP, AIR INTAKE, AXLE, BALANCING GEAR, BATTERY, BATTERY BELT, BATTERY CHARGE, BATTERY CLIP, BATTERY TARMINAL, BC UNIT, BEARING, BEARING SET, BEARING WIELDING, BEDDING BOLT, BODY , BODY COVER, BOLT REMOVAL, BOLT WIELDING, BORE, BORE GASKET, BORE KIT, BOTTLE COIL, BRAKE ADJUSTMENT, BRAKE BUSH KIT, BRAKE CABLE, BRAKE LEVER, BRAKE LIGHT SPRING, BRAKE LIGHT SWITCH, BRAKE LIGHT SWITCH , BRAKE PEDAL, BRAKE PEDAL RUBBER, BRAKE PEDAL SPRING, BRAKE ROD, BRAKE ROD SPRING, BRAKE RUBBER, BRAKE SHOE, BRAKE SWITCH, BULB, BULB , BULB HOLDER, BUSH KIT, BUZZER, CABLE LOCK, CAHIN PAD SCREW, CALIPER ASSEMBLY, CALIPER RUBBER KIT, CAM SHAFT, CAM SHAFT SPRING, CARBURETOR, CARBURETOR ASSEMBLY, CARBURETOR CLEANING, CARBURETOR DIAPHRAGM RUBBER, CARBURETOR PLATE, CARBURETOR SPRING, CASE BEARING, CASE WELDING, CDI UNIT, CENTER STAND, CENTER STAND SPRING, CHAIN ADJUSTER, CHAIN ADJUSTER PLATE, CHAIN COVER BEADING, CHAIN COVER BOLT, CHAIN COVER RUBBER, CHAIN LINK LOCK, CHAIN LUBRICATION, CHAIN OVERHAUL, CHAIN PAD, CHAIN SET, CHAIN SPROCKET, CHOKE CABLE, CHOKE SENSOR, CLUTCH ADJUSTMENT, CLUTCH ASSEMBLY, CLUTCH BELL REST, CLUTCH CABLE, CLUTCH CAM , CLUTCH CAM SPRING, CLUTCH CAM SWITCH, CLUTCH COVER GASKET, CLUTCH COVER PACKING, CLUTCH LEVER, CLUTCH OUTLET PIPE, CLUTCH OVERHUAL, CLUTCH REPALCEMENT, CLUTCH ROLLERS, CLUTCH SHOE, CLUTCH SPRING KIT, CLUTCH SWITCH, ...]\n",
       "Index: []\n",
       "\n",
       "[0 rows x 502 columns]"
      ]
     },
     "execution_count": 51,
     "metadata": {},
     "output_type": "execute_result"
    }
   ],
   "source": [
    "sales_data.head()"
   ]
  },
  {
   "cell_type": "code",
   "execution_count": null,
   "metadata": {},
   "outputs": [],
   "source": []
  },
  {
   "cell_type": "code",
   "execution_count": null,
   "metadata": {},
   "outputs": [],
   "source": []
  },
  {
   "cell_type": "code",
   "execution_count": null,
   "metadata": {},
   "outputs": [],
   "source": []
  }
 ],
 "metadata": {
  "kernelspec": {
   "display_name": "Python 3",
   "language": "python",
   "name": "python3"
  },
  "language_info": {
   "codemirror_mode": {
    "name": "ipython",
    "version": 3
   },
   "file_extension": ".py",
   "mimetype": "text/x-python",
   "name": "python",
   "nbconvert_exporter": "python",
   "pygments_lexer": "ipython3",
   "version": "3.7.3"
  }
 },
 "nbformat": 4,
 "nbformat_minor": 2
}
