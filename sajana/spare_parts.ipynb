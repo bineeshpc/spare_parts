{
 "cells": [
  {
   "cell_type": "code",
   "execution_count": 2,
   "metadata": {},
   "outputs": [],
   "source": [
    "import pandas as pd\n",
    "import numpy as np\n",
    "import datetime\n",
    "\n",
    "data = pd.read_excel('service-data.xlsx')"
   ]
  },
  {
   "cell_type": "code",
   "execution_count": 4,
   "metadata": {},
   "outputs": [
    {
     "data": {
      "text/html": [
       "<div>\n",
       "<style scoped>\n",
       "    .dataframe tbody tr th:only-of-type {\n",
       "        vertical-align: middle;\n",
       "    }\n",
       "\n",
       "    .dataframe tbody tr th {\n",
       "        vertical-align: top;\n",
       "    }\n",
       "\n",
       "    .dataframe thead th {\n",
       "        text-align: right;\n",
       "    }\n",
       "</style>\n",
       "<table border=\"1\" class=\"dataframe\">\n",
       "  <thead>\n",
       "    <tr style=\"text-align: right;\">\n",
       "      <th></th>\n",
       "      <th>Invoice Date</th>\n",
       "      <th>Job Card Date</th>\n",
       "      <th>Business Partner Name</th>\n",
       "      <th>Vehicle No.</th>\n",
       "      <th>Vehicle Model</th>\n",
       "      <th>Current KM Reading</th>\n",
       "      <th>INVOICE LINE TEXT</th>\n",
       "    </tr>\n",
       "  </thead>\n",
       "  <tbody>\n",
       "    <tr>\n",
       "      <th>0</th>\n",
       "      <td>2017-05-30</td>\n",
       "      <td>2017-05-30</td>\n",
       "      <td>shivXXXXXXXXXX</td>\n",
       "      <td>KA03MFXXXX</td>\n",
       "      <td>BAJAJ AVENGER STREET 220</td>\n",
       "      <td>50000.0</td>\n",
       "      <td>ENGINE OIL</td>\n",
       "    </tr>\n",
       "    <tr>\n",
       "      <th>1</th>\n",
       "      <td>2017-06-02</td>\n",
       "      <td>2017-05-31</td>\n",
       "      <td>KIRAXXXXXXXXXX</td>\n",
       "      <td>KA53ESXXXX</td>\n",
       "      <td>BAJAJ PULSAR NS 200</td>\n",
       "      <td>758.0</td>\n",
       "      <td>ENGINE OIL</td>\n",
       "    </tr>\n",
       "    <tr>\n",
       "      <th>2</th>\n",
       "      <td>2017-06-02</td>\n",
       "      <td>2017-05-31</td>\n",
       "      <td>KIRAXXXXXXXXXX</td>\n",
       "      <td>KA53ESXXXX</td>\n",
       "      <td>BAJAJ PULSAR NS 200</td>\n",
       "      <td>758.0</td>\n",
       "      <td>POLISH</td>\n",
       "    </tr>\n",
       "    <tr>\n",
       "      <th>3</th>\n",
       "      <td>2017-06-02</td>\n",
       "      <td>2017-05-31</td>\n",
       "      <td>KIRAXXXXXXXXXX</td>\n",
       "      <td>KA53ESXXXX</td>\n",
       "      <td>BAJAJ PULSAR NS 200</td>\n",
       "      <td>758.0</td>\n",
       "      <td>CONSUMABLES</td>\n",
       "    </tr>\n",
       "    <tr>\n",
       "      <th>4</th>\n",
       "      <td>2017-06-02</td>\n",
       "      <td>2017-05-31</td>\n",
       "      <td>KIRAXXXXXXXXXX</td>\n",
       "      <td>KA53ESXXXX</td>\n",
       "      <td>BAJAJ PULSAR NS 200</td>\n",
       "      <td>758.0</td>\n",
       "      <td>COOLANT OIL</td>\n",
       "    </tr>\n",
       "  </tbody>\n",
       "</table>\n",
       "</div>"
      ],
      "text/plain": [
       "  Invoice Date Job Card Date Business Partner Name Vehicle No.  \\\n",
       "0   2017-05-30    2017-05-30        shivXXXXXXXXXX  KA03MFXXXX   \n",
       "1   2017-06-02    2017-05-31        KIRAXXXXXXXXXX  KA53ESXXXX   \n",
       "2   2017-06-02    2017-05-31        KIRAXXXXXXXXXX  KA53ESXXXX   \n",
       "3   2017-06-02    2017-05-31        KIRAXXXXXXXXXX  KA53ESXXXX   \n",
       "4   2017-06-02    2017-05-31        KIRAXXXXXXXXXX  KA53ESXXXX   \n",
       "\n",
       "              Vehicle Model  Current KM Reading INVOICE LINE TEXT  \n",
       "0  BAJAJ AVENGER STREET 220             50000.0        ENGINE OIL  \n",
       "1       BAJAJ PULSAR NS 200               758.0        ENGINE OIL  \n",
       "2       BAJAJ PULSAR NS 200               758.0            POLISH  \n",
       "3       BAJAJ PULSAR NS 200               758.0       CONSUMABLES  \n",
       "4       BAJAJ PULSAR NS 200               758.0       COOLANT OIL  "
      ]
     },
     "execution_count": 4,
     "metadata": {},
     "output_type": "execute_result"
    }
   ],
   "source": [
    "data.head()"
   ]
  },
  {
   "cell_type": "code",
   "execution_count": 5,
   "metadata": {},
   "outputs": [],
   "source": [
    "column = \"INVOICE LINE TEXT\"\n",
    "prefix = \"Parts Name-\"\n",
    "\n",
    "data = pd.get_dummies(data, columns = [column], prefix = prefix)"
   ]
  },
  {
   "cell_type": "code",
   "execution_count": 6,
   "metadata": {},
   "outputs": [],
   "source": [
    "parts_name_columns = [i for i in data.columns if prefix in i]\n",
    "parts_sales_agg = {i : 'sum' for i in parts_name_columns}\n",
    "sales_month = pd.to_datetime(data['Invoice Date']).dt.to_period('M')\n",
    "#monthly_parts_sales_data = data.g\n",
    "data.index = sales_month"
   ]
  },
  {
   "cell_type": "code",
   "execution_count": 7,
   "metadata": {},
   "outputs": [],
   "source": [
    "monthly_parts_sales_data = data.groupby(data.index).agg(parts_sales_agg)\n",
    "\n",
    "#monthly_parts_sales_data[\"Parts Name-_ENGINE OIL\"]"
   ]
  },
  {
   "cell_type": "code",
   "execution_count": 12,
   "metadata": {},
   "outputs": [
    {
     "data": {
      "text/plain": [
       "array([1., 1., 1., 1., 1., 1., 1., 1., 1., 1.])"
      ]
     },
     "execution_count": 12,
     "metadata": {},
     "output_type": "execute_result"
    }
   ],
   "source": [
    "from statsmodels.tsa.arima_model import ARIMA\n",
    "\n",
    "X = monthly_parts_sales_data['Parts Name-_YOKE'].values\n",
    "#print(X)\n",
    "train = X[0:15] # 27 data as train data\n",
    "test = X[14:]\n",
    "\n",
    "#def get_arime() :\n",
    "model_arima = ARIMA(train,order=(0,0,1))\n",
    "model_arima_fit = model_arima.fit()\n",
    "predictions= model_arima_fit.forecast(steps=10)[0]\n",
    "predictions\n",
    "    \n",
    "#df2 = monthly_parts_sales_data.apply(get_arime(), axis=1)"
   ]
  },
  {
   "cell_type": "code",
   "execution_count": 9,
   "metadata": {},
   "outputs": [],
   "source": [
    "#monthly_parts_sales_data[\"Parts Name-_YOKE\"]"
   ]
  },
  {
   "cell_type": "code",
   "execution_count": 10,
   "metadata": {},
   "outputs": [
    {
     "data": {
      "text/plain": [
       "Invoice Date\n",
       "2017-05      5\n",
       "2017-06    179\n",
       "2017-07    172\n",
       "2017-08    146\n",
       "2017-09    187\n",
       "2017-10    158\n",
       "2017-11    191\n",
       "2017-12    213\n",
       "2018-01    154\n",
       "2018-02    199\n",
       "2018-03    215\n",
       "2018-04    207\n",
       "2018-05    212\n",
       "2018-06    216\n",
       "2018-07    208\n",
       "2018-08    204\n",
       "2018-09    216\n",
       "2018-10    241\n",
       "2018-11    199\n",
       "2018-12    242\n",
       "2019-01     38\n",
       "Freq: M, Name: Parts Name-_ENGINE OIL, dtype: uint8"
      ]
     },
     "execution_count": 10,
     "metadata": {},
     "output_type": "execute_result"
    }
   ],
   "source": [
    "monthly_parts_sales_data[\"Parts Name-_ENGINE OIL\"]"
   ]
  },
  {
   "cell_type": "code",
   "execution_count": 46,
   "metadata": {},
   "outputs": [
    {
     "name": "stdout",
     "output_type": "stream",
     "text": [
      "predicted=198.484023, expected=208.000000\n",
      "predicted=184.912753, expected=204.000000\n",
      "predicted=185.187840, expected=216.000000\n",
      "predicted=184.805711, expected=241.000000\n",
      "predicted=196.830034, expected=199.000000\n",
      "predicted=202.504191, expected=242.000000\n",
      "predicted=187.622732, expected=38.000000\n"
     ]
    }
   ],
   "source": [
    "X = monthly_parts_sales_data['Parts Name-_ENGINE OIL'].values\n",
    "#print(X)\n",
    "train = X[0:15] # 27 data as train data\n",
    "test = X[14:]\n",
    "\n",
    "#def get_arime() :\n",
    "model_arima = ARIMA(train,order=(0,0,2))\n",
    "model_arima_fit = model_arima.fit()\n",
    "predictions= model_arima_fit.forecast(steps=5)[0]\n",
    "#predictions\n",
    "\n",
    "# to check the difference between predicted and actual use below code.\n",
    "\n",
    "history = [x for x in train]\n",
    "final_predictions = list()\n",
    "for t in range(len(test)):\n",
    "    model = ARIMA(history, order=(0,0,2))\n",
    "    model_fit = model.fit(disp=0)\n",
    "    output = model_fit.forecast()\n",
    "    yhat = output[0]\n",
    "    final_predictions.append(yhat)\n",
    "    obs = test[t]\n",
    "    history.append(obs)\n",
    "    print('predicted=%f, expected=%f' % (yhat, obs))"
   ]
  },
  {
   "cell_type": "code",
   "execution_count": 40,
   "metadata": {},
   "outputs": [
    {
     "name": "stdout",
     "output_type": "stream",
     "text": [
      "Test MSE: 4073.379\n"
     ]
    },
    {
     "data": {
      "image/png": "[encoded data removed]",
      "text/plain": [
       "<Figure size 432x288 with 1 Axes>"
      ]
     },
     "metadata": {
      "needs_background": "light"
     },
     "output_type": "display_data"
    }
   ],
   "source": [
    "from matplotlib import pyplot\n",
    "from sklearn.metrics import mean_squared_error\n",
    "\n",
    "error = mean_squared_error(test,final_predictions)\n",
    "print('Test MSE: %.3f' % error)\n",
    "pyplot.plot(test)\n",
    "pyplot.plot(predictions, color='red')\n",
    "pyplot.show()"
   ]
  },
  {
   "cell_type": "code",
   "execution_count": null,
   "metadata": {},
   "outputs": [],
   "source": []
  },
  {
   "cell_type": "code",
   "execution_count": null,
   "metadata": {},
   "outputs": [],
   "source": []
  },
  {
   "cell_type": "code",
   "execution_count": null,
   "metadata": {},
   "outputs": [],
   "source": []
  },
  {
   "cell_type": "code",
   "execution_count": null,
   "metadata": {},
   "outputs": [],
   "source": []
  }
 ],
 "metadata": {
  "kernelspec": {
   "display_name": "Python 3",
   "language": "python",
   "name": "python3"
  },
  "language_info": {
   "codemirror_mode": {
    "name": "ipython",
    "version": 3
   },
   "file_extension": ".py",
   "mimetype": "text/x-python",
   "name": "python",
   "nbconvert_exporter": "python",
   "pygments_lexer": "ipython3",
   "version": "3.7.3"
  }
 },
 "nbformat": 4,
 "nbformat_minor": 2
}
