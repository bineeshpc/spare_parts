{
 "cells": [
  {
   "cell_type": "markdown",
   "metadata": {},
   "source": [
    "This notebook tries to distribute the prediction based on values of business partner and vehicle model.\n",
    "\n",
    "This is buggy right now and it crashes the jupyter notebook itself probably because of excessive prints\n",
    "\n",
    "This is a bad solution.\n",
    "\n",
    "This is not going to work.\n"
   ]
  },
  {
   "cell_type": "code",
   "execution_count": 14,
   "metadata": {},
   "outputs": [],
   "source": [
    "import picklelib\n",
    "import itertools\n"
   ]
  },
  {
   "cell_type": "code",
   "execution_count": 15,
   "metadata": {},
   "outputs": [],
   "source": [
    "business_partner_models = picklelib.load('business_partner.pickle')\n",
    "vehicle_model_models = picklelib.load('vehicle_model.pickle')\n",
    "spare_parts_models = picklelib.load('spare_parts.pickle')"
   ]
  },
  {
   "cell_type": "code",
   "execution_count": 16,
   "metadata": {},
   "outputs": [
    {
     "data": {
      "text/plain": [
       "28"
      ]
     },
     "execution_count": 16,
     "metadata": {},
     "output_type": "execute_result"
    }
   ],
   "source": [
    "len(vehicle_model_models)"
   ]
  },
  {
   "cell_type": "code",
   "execution_count": 17,
   "metadata": {},
   "outputs": [
    {
     "data": {
      "text/plain": [
       "1010"
      ]
     },
     "execution_count": 17,
     "metadata": {},
     "output_type": "execute_result"
    }
   ],
   "source": [
    "len(business_partner_models)"
   ]
  },
  {
   "cell_type": "code",
   "execution_count": 18,
   "metadata": {},
   "outputs": [
    {
     "data": {
      "text/plain": [
       "502"
      ]
     },
     "execution_count": 18,
     "metadata": {},
     "output_type": "execute_result"
    }
   ],
   "source": [
    "len(spare_parts_models)"
   ]
  },
  {
   "cell_type": "code",
   "execution_count": 19,
   "metadata": {},
   "outputs": [],
   "source": [
    "\n",
    "def next_month_values(business_partner_models, vehicle_model_models, spare_parts_models):\n",
    "    \n",
    "    def get_total_values(d):\n",
    "        total = 0\n",
    "        for _, v in d.items():\n",
    "            total += v\n",
    "        return total\n",
    "    \n",
    "    def get_ratios(d):\n",
    "        total = get_total_values(d)\n",
    "        output = {}\n",
    "        for k, v in d.items():\n",
    "            output[k] = v / total\n",
    "        return output\n",
    "    \n",
    "    business_partner_data = {}\n",
    "    for k, v in business_partner_models.items():\n",
    "        bp = v[1].forecast(steps=1)[0][0]\n",
    "        business_partner_data[k] = bp\n",
    "    \n",
    "    vehicle_model_data = {}\n",
    "    for k, v in vehicle_model_models.items():\n",
    "        vehicle_model_data[k] = v[1].forecast(steps=1)[0][0]\n",
    "\n",
    "    spare_parts_total_prediction = {}\n",
    "    for k, v in spare_parts_models.items():\n",
    "        spare_parts_total_prediction[k] = v[1].forecast(steps=1)[0][0]\n",
    "    \n",
    "    business_partner_ratios = get_ratios(business_partner_data)\n",
    "    vehicle_model_ratios = get_ratios(vehicle_model_data)\n",
    "    \n",
    "    return business_partner_ratios, vehicle_model_ratios, spare_parts_total_prediction\n",
    "\n",
    "business_partner_ratios, vehicle_model_ratios, spare_parts_total_prediction = next_month_values(business_partner_models, vehicle_model_models, spare_parts_models)\n",
    "\n"
   ]
  },
  {
   "cell_type": "code",
   "execution_count": 20,
   "metadata": {},
   "outputs": [],
   "source": [
    "def who_gets_what(business_partner_ratios, vehicle_model_ratios, spare_parts_total_prediction):\n",
    "    bpr, vmr, spt = business_partner_ratios.keys(), vehicle_model_ratios.keys(), spare_parts_total_prediction.keys()\n",
    "    for bp, vm, sp in itertools.product(bpr, vmr, spt):\n",
    "        bpv, vmv, spv = (business_partner_ratios[bp],\n",
    "                         vehicle_model_ratios[vm],\n",
    "                         spare_parts_total_prediction[sp]\n",
    "                        )\n",
    "        if bpv * vmv * spv > 1:\n",
    "            print(bp, vm, sp, bpv, vmv, spv, bpv * vmv * spv)\n",
    "        \n",
    "\n",
    "# who_gets_what(business_partner_ratios, vehicle_model_ratios, spare_parts_total_prediction)\n",
    "    "
   ]
  },
  {
   "cell_type": "code",
   "execution_count": 21,
   "metadata": {},
   "outputs": [
    {
     "data": {
      "text/plain": [
       "27"
      ]
     },
     "execution_count": 21,
     "metadata": {},
     "output_type": "execute_result"
    }
   ],
   "source": [
    "len(list(itertools.product(['a', 'b', 'c'], ['$', '%', '^'], [1, 2, 3])))"
   ]
  },
  {
   "cell_type": "code",
   "execution_count": 22,
   "metadata": {},
   "outputs": [
    {
     "data": {
      "text/plain": [
       "14.19656"
      ]
     },
     "execution_count": 22,
     "metadata": {},
     "output_type": "execute_result"
    }
   ],
   "source": [
    "28 * 1010 * 502 / 10 ** 6"
   ]
  }
 ],
 "metadata": {
  "kernelspec": {
   "display_name": "Python 3",
   "language": "python",
   "name": "python3"
  },
  "language_info": {
   "codemirror_mode": {
    "name": "ipython",
    "version": 3
   },
   "file_extension": ".py",
   "mimetype": "text/x-python",
   "name": "python",
   "nbconvert_exporter": "python",
   "pygments_lexer": "ipython3",
   "version": "3.7.3"
  }
 },
 "nbformat": 4,
 "nbformat_minor": 2
}
