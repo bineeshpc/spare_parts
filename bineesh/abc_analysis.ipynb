{
 "cells": [
  {
   "cell_type": "code",
   "execution_count": 101,
   "metadata": {},
   "outputs": [],
   "source": [
    "\n",
    "import pandas as pd\n",
    "import warnings\n",
    "warnings.filterwarnings(\"ignore\")\n"
   ]
  },
  {
   "cell_type": "code",
   "execution_count": 102,
   "metadata": {},
   "outputs": [
    {
     "data": {
      "text/html": [
       "<div>\n",
       "<style scoped>\n",
       "    .dataframe tbody tr th:only-of-type {\n",
       "        vertical-align: middle;\n",
       "    }\n",
       "\n",
       "    .dataframe tbody tr th {\n",
       "        vertical-align: top;\n",
       "    }\n",
       "\n",
       "    .dataframe thead th {\n",
       "        text-align: right;\n",
       "    }\n",
       "</style>\n",
       "<table border=\"1\" class=\"dataframe\">\n",
       "  <thead>\n",
       "    <tr style=\"text-align: right;\">\n",
       "      <th></th>\n",
       "      <th>invoice_date</th>\n",
       "      <th>vehicle_model</th>\n",
       "      <th>invoice_line</th>\n",
       "    </tr>\n",
       "  </thead>\n",
       "  <tbody>\n",
       "    <tr>\n",
       "      <th>0</th>\n",
       "      <td>2017-05-30</td>\n",
       "      <td>BAJAJ AVENGER STREET 220</td>\n",
       "      <td>ENGINE OIL</td>\n",
       "    </tr>\n",
       "    <tr>\n",
       "      <th>1</th>\n",
       "      <td>2017-06-02</td>\n",
       "      <td>BAJAJ PULSAR NS 200</td>\n",
       "      <td>ENGINE OIL</td>\n",
       "    </tr>\n",
       "    <tr>\n",
       "      <th>2</th>\n",
       "      <td>2017-06-02</td>\n",
       "      <td>BAJAJ PULSAR NS 200</td>\n",
       "      <td>POLISH</td>\n",
       "    </tr>\n",
       "    <tr>\n",
       "      <th>3</th>\n",
       "      <td>2017-06-02</td>\n",
       "      <td>BAJAJ PULSAR NS 200</td>\n",
       "      <td>CONSUMABLES</td>\n",
       "    </tr>\n",
       "    <tr>\n",
       "      <th>4</th>\n",
       "      <td>2017-06-02</td>\n",
       "      <td>BAJAJ PULSAR NS 200</td>\n",
       "      <td>COOLANT OIL</td>\n",
       "    </tr>\n",
       "  </tbody>\n",
       "</table>\n",
       "</div>"
      ],
      "text/plain": [
       "  invoice_date             vehicle_model invoice_line\n",
       "0   2017-05-30  BAJAJ AVENGER STREET 220   ENGINE OIL\n",
       "1   2017-06-02       BAJAJ PULSAR NS 200   ENGINE OIL\n",
       "2   2017-06-02       BAJAJ PULSAR NS 200       POLISH\n",
       "3   2017-06-02       BAJAJ PULSAR NS 200  CONSUMABLES\n",
       "4   2017-06-02       BAJAJ PULSAR NS 200  COOLANT OIL"
      ]
     },
     "execution_count": 102,
     "metadata": {},
     "output_type": "execute_result"
    }
   ],
   "source": [
    "data = pd.read_csv('../data/spare_cleaned.csv')\n",
    "data.head()"
   ]
  },
  {
   "cell_type": "markdown",
   "metadata": {},
   "source": [
    " # ABC Analysis\n",
    " ABC analysis is an approach for classifying inventory items based on the items consumption values. Consumption value is the total value of an item consumed over a specified time period, for example a year. The approach is based on the Pareto principle to help manage what matters and is applied in this context:"
   ]
  },
  {
   "cell_type": "markdown",
   "metadata": {},
   "source": [
    " ## A B C class separation\n",
    " * **A Class** is top 50%\n",
    " * **B Class** is top 50-80%\n",
    " * **C Class** is the rest"
   ]
  },
  {
   "cell_type": "code",
   "execution_count": 103,
   "metadata": {},
   "outputs": [
    {
     "data": {
      "text/plain": [
       "(28448, 3)"
      ]
     },
     "execution_count": 103,
     "metadata": {},
     "output_type": "execute_result"
    }
   ],
   "source": [
    "data.shape\n"
   ]
  },
  {
   "cell_type": "code",
   "execution_count": 104,
   "metadata": {},
   "outputs": [
    {
     "name": "stdout",
     "output_type": "stream",
     "text": [
      "(                   invoice_date  cum_sum  cum_sum_perc\n",
      "invoice_line                                          \n",
      "ENGINE OIL                 3802     3802      0.133647\n",
      "CHAIN LUBRICATION          3441     7243      0.254605\n",
      "GENERAL SERVICE            2142     9385      0.329900\n",
      "AIR FILTER                 1715    11100      0.390186\n",
      "3M OIL                     1628    12728      0.447413, 0.0, 0.4474128233970754)\n"
     ]
    },
    {
     "data": {
      "text/plain": [
       "(                     invoice_date  cum_sum  cum_sum_perc\n",
       " invoice_line                                            \n",
       " CONSUMABLES                  1595    14323      0.503480\n",
       " POLISH                       1245    15568      0.547244\n",
       " DISC OIL                      991    16559      0.582080\n",
       " BRAKE SHOE                    965    17524      0.616001\n",
       " OIL FILTER                    821    18345      0.644861\n",
       " DISC PAD                      575    18920      0.665073\n",
       " WHEEL RUBBER                  521    19441      0.683387\n",
       " AIR FILTER CHECKUP            467    19908      0.699803\n",
       " SPARK PLUG                    421    20329      0.714602\n",
       " CHAIN SPROCKET                396    20725      0.728522\n",
       " SPROCKET RUBBER               347    21072      0.740720\n",
       " SPROCKET BEARING              314    21386      0.751758\n",
       " CHAIN OVERHAUL                284    21670      0.761741\n",
       " CLUTCH CABLE                  263    21933      0.770986\n",
       " CLUTCH ASSEMBLY               212    22145      0.778438\n",
       " CLUTCH COVER GASKET           190    22335      0.785117\n",
       " CLUTCH OVERHUAL               163    22498      0.790846\n",
       " TANK COVER                    134    22632      0.795557,\n",
       " 0.4474128233970754,\n",
       " 0.795556805399325)"
      ]
     },
     "execution_count": 104,
     "metadata": {},
     "output_type": "execute_result"
    }
   ],
   "source": [
    "\n",
    "def get_invoice_line_by_consumption(data: pd.DataFrame, start_consumption: float, end_consumption: float) -> (pd.DataFrame, float, float):\n",
    "    \"\"\" start_consumption: float between 0 and 1 which denotes the top percentage of data as a ration between 0 and 1\n",
    "    end_consumption: float between 0 and 1 which denotes the top percentage of data as a ration between 0 and 1\n",
    "    We want to return actual start consumption and end consumption based on data because we want to \n",
    "    either select the spare part or drop it completely\n",
    "    \n",
    "    returns: a tuple with (\n",
    "    data frame with the top consumption data,\n",
    "    actual start consumption used,\n",
    "    actual end consumption used\n",
    "    )\n",
    "\n",
    "    \"\"\"\n",
    "\n",
    "    length = data.shape[0]\n",
    "    df = data[['invoice_date', 'invoice_line']].groupby('invoice_line').count().sort_values('invoice_date', ascending=False)\n",
    "    \n",
    "    df['cum_sum'] = df['invoice_date'].cumsum()\n",
    "    df['cum_sum_perc'] = df['cum_sum'] / length\n",
    "    df1 = df.loc[ (df['cum_sum_perc'] > start_consumption) & (df['cum_sum_perc'] <= end_consumption)]\n",
    "    \n",
    "    actual_start = (df1['cum_sum'].iloc[0] - df1['invoice_date'].iloc[0]) / length\n",
    "    actual_end = df1['cum_sum_perc'].iloc[-1]\n",
    "    \n",
    "    return df1, actual_start, actual_end\n",
    "    \n",
    "    \n",
    "    \n",
    "print(get_invoice_line_by_consumption(data, 0.0, .5))\n",
    "get_invoice_line_by_consumption(data, .5, .8)"
   ]
  },
  {
   "cell_type": "code",
   "execution_count": 105,
   "metadata": {},
   "outputs": [],
   "source": [
    "def get_A_B_C(data: pd.DataFrame, a_end: float, b_end: float) -> (pd.DataFrame, pd.DataFrame, pd.DataFrame):\n",
    "    \"\"\"\n",
    "    data : dataframe\n",
    "    a_end : Where A class ends\n",
    "    b_end : where B class ends\n",
    "    returns : return a tuple which contains 3 data frames A B C\n",
    "    \n",
    "    \"\"\"\n",
    "    \n",
    "    a_category_df_counts, a_category_start, a_category_end = get_invoice_line_by_consumption(data, 0.0, 0.5)\n",
    "    b_category_df_counts, b_category_start, b_category_end = get_invoice_line_by_consumption(data, 0.5, 0.8)\n",
    "    c_category_df_counts, c_category_start, c_category_end = get_invoice_line_by_consumption(data, 0.8, 1.0)\n",
    "    \n",
    "    a_category_df = data.loc[data['invoice_line'].isin(a_category_df_counts.index)]\n",
    "    b_category_df = data.loc[data['invoice_line'].isin(b_category_df_counts.index)]\n",
    "    c_category_df = data.loc[data['invoice_line'].isin(c_category_df_counts.index)]\n",
    "    \n",
    "    return a_category_df, b_category_df, c_category_df\n",
    "    "
   ]
  },
  {
   "cell_type": "code",
   "execution_count": 106,
   "metadata": {},
   "outputs": [],
   "source": [
    "s = 0\n",
    "for f, df in zip(['A', 'B', 'C'], get_A_B_C(data,0.5,0.8)):\n",
    "    filename = f'../data/{f}.csv'\n",
    "    df.to_csv(filename, index=False)\n",
    "    s += len(df)\n",
    "    \n",
    "assert len(data) == s"
   ]
  },
  {
   "cell_type": "code",
   "execution_count": null,
   "metadata": {},
   "outputs": [],
   "source": []
  }
 ],
 "metadata": {
  "file_extension": ".py",
  "kernelspec": {
   "display_name": "Python 3",
   "language": "python",
   "name": "python3"
  },
  "language_info": {
   "codemirror_mode": {
    "name": "ipython",
    "version": 3
   },
   "file_extension": ".py",
   "mimetype": "text/x-python",
   "name": "python",
   "nbconvert_exporter": "python",
   "pygments_lexer": "ipython3",
   "version": "3.7.3"
  },
  "mimetype": "text/x-python",
  "name": "python",
  "npconvert_exporter": "python",
  "pygments_lexer": "ipython3",
  "version": 3
 },
 "nbformat": 4,
 "nbformat_minor": 2
}
