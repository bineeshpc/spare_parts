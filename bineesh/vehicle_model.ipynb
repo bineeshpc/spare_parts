{
 "cells": [
  {
   "cell_type": "code",
   "execution_count": 12,
   "metadata": {},
   "outputs": [],
   "source": [
    "import pandas as pd\n",
    "\n",
    "data = pd.read_excel('../data/service-data.xlsx')"
   ]
  },
  {
   "cell_type": "code",
   "execution_count": 13,
   "metadata": {},
   "outputs": [
    {
     "data": {
      "text/html": [
       "<div>\n",
       "<style scoped>\n",
       "    .dataframe tbody tr th:only-of-type {\n",
       "        vertical-align: middle;\n",
       "    }\n",
       "\n",
       "    .dataframe tbody tr th {\n",
       "        vertical-align: top;\n",
       "    }\n",
       "\n",
       "    .dataframe thead th {\n",
       "        text-align: right;\n",
       "    }\n",
       "</style>\n",
       "<table border=\"1\" class=\"dataframe\">\n",
       "  <thead>\n",
       "    <tr style=\"text-align: right;\">\n",
       "      <th></th>\n",
       "      <th>Invoice Date</th>\n",
       "      <th>Job Card Date</th>\n",
       "      <th>Business Partner Name</th>\n",
       "      <th>Vehicle No.</th>\n",
       "      <th>Vehicle Model</th>\n",
       "      <th>Current KM Reading</th>\n",
       "      <th>INVOICE LINE TEXT</th>\n",
       "    </tr>\n",
       "  </thead>\n",
       "  <tbody>\n",
       "    <tr>\n",
       "      <th>0</th>\n",
       "      <td>2017-05-30</td>\n",
       "      <td>2017-05-30</td>\n",
       "      <td>shivXXXXXXXXXX</td>\n",
       "      <td>KA03MFXXXX</td>\n",
       "      <td>BAJAJ AVENGER STREET 220</td>\n",
       "      <td>50000.0</td>\n",
       "      <td>ENGINE OIL</td>\n",
       "    </tr>\n",
       "    <tr>\n",
       "      <th>1</th>\n",
       "      <td>2017-06-02</td>\n",
       "      <td>2017-05-31</td>\n",
       "      <td>KIRAXXXXXXXXXX</td>\n",
       "      <td>KA53ESXXXX</td>\n",
       "      <td>BAJAJ PULSAR NS 200</td>\n",
       "      <td>758.0</td>\n",
       "      <td>ENGINE OIL</td>\n",
       "    </tr>\n",
       "  </tbody>\n",
       "</table>\n",
       "</div>"
      ],
      "text/plain": [
       "  Invoice Date Job Card Date Business Partner Name Vehicle No.  \\\n",
       "0   2017-05-30    2017-05-30        shivXXXXXXXXXX  KA03MFXXXX   \n",
       "1   2017-06-02    2017-05-31        KIRAXXXXXXXXXX  KA53ESXXXX   \n",
       "\n",
       "              Vehicle Model  Current KM Reading INVOICE LINE TEXT  \n",
       "0  BAJAJ AVENGER STREET 220             50000.0        ENGINE OIL  \n",
       "1       BAJAJ PULSAR NS 200               758.0        ENGINE OIL  "
      ]
     },
     "execution_count": 13,
     "metadata": {},
     "output_type": "execute_result"
    }
   ],
   "source": [
    "data.head(2)"
   ]
  },
  {
   "cell_type": "code",
   "execution_count": 14,
   "metadata": {},
   "outputs": [],
   "source": [
    "data.dropna(inplace=True)"
   ]
  },
  {
   "cell_type": "code",
   "execution_count": 15,
   "metadata": {},
   "outputs": [
    {
     "data": {
      "text/plain": [
       "datetime.datetime(2017, 5, 30, 0, 0)"
      ]
     },
     "execution_count": 15,
     "metadata": {},
     "output_type": "execute_result"
    }
   ],
   "source": [
    "import datetime\n",
    "\n",
    "datetime.datetime.strptime('2017-05-30', '%Y-%m-%d')"
   ]
  },
  {
   "cell_type": "code",
   "execution_count": 16,
   "metadata": {},
   "outputs": [],
   "source": [
    "data.index = data['Invoice Date'].apply(lambda x: datetime.datetime.strptime(f'{x.year}-{x.month}', '%Y-%m'))"
   ]
  },
  {
   "cell_type": "code",
   "execution_count": 17,
   "metadata": {},
   "outputs": [
    {
     "data": {
      "text/html": [
       "<div>\n",
       "<style scoped>\n",
       "    .dataframe tbody tr th:only-of-type {\n",
       "        vertical-align: middle;\n",
       "    }\n",
       "\n",
       "    .dataframe tbody tr th {\n",
       "        vertical-align: top;\n",
       "    }\n",
       "\n",
       "    .dataframe thead th {\n",
       "        text-align: right;\n",
       "    }\n",
       "</style>\n",
       "<table border=\"1\" class=\"dataframe\">\n",
       "  <thead>\n",
       "    <tr style=\"text-align: right;\">\n",
       "      <th></th>\n",
       "      <th>Invoice Date</th>\n",
       "      <th>Job Card Date</th>\n",
       "      <th>Business Partner Name</th>\n",
       "      <th>Vehicle No.</th>\n",
       "      <th>Vehicle Model</th>\n",
       "      <th>Current KM Reading</th>\n",
       "      <th>INVOICE LINE TEXT</th>\n",
       "    </tr>\n",
       "    <tr>\n",
       "      <th>Invoice Date</th>\n",
       "      <th></th>\n",
       "      <th></th>\n",
       "      <th></th>\n",
       "      <th></th>\n",
       "      <th></th>\n",
       "      <th></th>\n",
       "      <th></th>\n",
       "    </tr>\n",
       "  </thead>\n",
       "  <tbody>\n",
       "    <tr>\n",
       "      <th>2017-06-01</th>\n",
       "      <td>2017-06-12</td>\n",
       "      <td>2017-06-12</td>\n",
       "      <td>jmkXXXXXXXXXX</td>\n",
       "      <td>KHXXXX</td>\n",
       "      <td>BAJAJ BOXER CT</td>\n",
       "      <td>3655.0</td>\n",
       "      <td>SPARK PLUG</td>\n",
       "    </tr>\n",
       "    <tr>\n",
       "      <th>2017-06-01</th>\n",
       "      <td>2017-06-12</td>\n",
       "      <td>2017-06-12</td>\n",
       "      <td>jmkXXXXXXXXXX</td>\n",
       "      <td>KHXXXX</td>\n",
       "      <td>BAJAJ BOXER CT</td>\n",
       "      <td>3655.0</td>\n",
       "      <td>AIR FILTER CHECKUP</td>\n",
       "    </tr>\n",
       "    <tr>\n",
       "      <th>2017-06-01</th>\n",
       "      <td>2017-06-12</td>\n",
       "      <td>2017-06-12</td>\n",
       "      <td>jmkXXXXXXXXXX</td>\n",
       "      <td>KHXXXX</td>\n",
       "      <td>BAJAJ BOXER CT</td>\n",
       "      <td>3655.0</td>\n",
       "      <td>GENERAL SERVICE</td>\n",
       "    </tr>\n",
       "    <tr>\n",
       "      <th>2017-06-01</th>\n",
       "      <td>2017-06-12</td>\n",
       "      <td>2017-06-12</td>\n",
       "      <td>jmkXXXXXXXXXX</td>\n",
       "      <td>KHXXXX</td>\n",
       "      <td>BAJAJ BOXER CT</td>\n",
       "      <td>3655.0</td>\n",
       "      <td>MIRROR ADJUSTMENT</td>\n",
       "    </tr>\n",
       "  </tbody>\n",
       "</table>\n",
       "</div>"
      ],
      "text/plain": [
       "             Invoice Date Job Card Date Business Partner Name Vehicle No.  \\\n",
       "Invoice Date                                                                \n",
       "2017-06-01     2017-06-12    2017-06-12         jmkXXXXXXXXXX      KHXXXX   \n",
       "2017-06-01     2017-06-12    2017-06-12         jmkXXXXXXXXXX      KHXXXX   \n",
       "2017-06-01     2017-06-12    2017-06-12         jmkXXXXXXXXXX      KHXXXX   \n",
       "2017-06-01     2017-06-12    2017-06-12         jmkXXXXXXXXXX      KHXXXX   \n",
       "\n",
       "               Vehicle Model  Current KM Reading   INVOICE LINE TEXT  \n",
       "Invoice Date                                                          \n",
       "2017-06-01    BAJAJ BOXER CT              3655.0          SPARK PLUG  \n",
       "2017-06-01    BAJAJ BOXER CT              3655.0  AIR FILTER CHECKUP  \n",
       "2017-06-01    BAJAJ BOXER CT              3655.0     GENERAL SERVICE  \n",
       "2017-06-01    BAJAJ BOXER CT              3655.0   MIRROR ADJUSTMENT  "
      ]
     },
     "execution_count": 17,
     "metadata": {},
     "output_type": "execute_result"
    }
   ],
   "source": [
    "data[data['Vehicle Model'] == 'BAJAJ BOXER CT']"
   ]
  },
  {
   "cell_type": "code",
   "execution_count": 18,
   "metadata": {},
   "outputs": [
    {
     "data": {
      "text/html": [
       "<div>\n",
       "<style scoped>\n",
       "    .dataframe tbody tr th:only-of-type {\n",
       "        vertical-align: middle;\n",
       "    }\n",
       "\n",
       "    .dataframe tbody tr th {\n",
       "        vertical-align: top;\n",
       "    }\n",
       "\n",
       "    .dataframe thead th {\n",
       "        text-align: right;\n",
       "    }\n",
       "</style>\n",
       "<table border=\"1\" class=\"dataframe\">\n",
       "  <thead>\n",
       "    <tr style=\"text-align: right;\">\n",
       "      <th></th>\n",
       "      <th>Invoice Date</th>\n",
       "      <th>Job Card Date</th>\n",
       "      <th>Business Partner Name</th>\n",
       "      <th>Vehicle No.</th>\n",
       "      <th>Vehicle Model</th>\n",
       "      <th>Current KM Reading</th>\n",
       "      <th>INVOICE LINE TEXT</th>\n",
       "    </tr>\n",
       "    <tr>\n",
       "      <th>Invoice Date</th>\n",
       "      <th></th>\n",
       "      <th></th>\n",
       "      <th></th>\n",
       "      <th></th>\n",
       "      <th></th>\n",
       "      <th></th>\n",
       "      <th></th>\n",
       "    </tr>\n",
       "  </thead>\n",
       "  <tbody>\n",
       "    <tr>\n",
       "      <th>2017-05-01</th>\n",
       "      <td>2017-05-30</td>\n",
       "      <td>2017-05-30</td>\n",
       "      <td>shivXXXXXXXXXX</td>\n",
       "      <td>KA03MFXXXX</td>\n",
       "      <td>BAJAJ AVENGER STREET 220</td>\n",
       "      <td>50000.0</td>\n",
       "      <td>ENGINE OIL</td>\n",
       "    </tr>\n",
       "    <tr>\n",
       "      <th>2017-06-01</th>\n",
       "      <td>2017-06-02</td>\n",
       "      <td>2017-05-31</td>\n",
       "      <td>KIRAXXXXXXXXXX</td>\n",
       "      <td>KA53ESXXXX</td>\n",
       "      <td>BAJAJ PULSAR NS 200</td>\n",
       "      <td>758.0</td>\n",
       "      <td>ENGINE OIL</td>\n",
       "    </tr>\n",
       "    <tr>\n",
       "      <th>2017-06-01</th>\n",
       "      <td>2017-06-02</td>\n",
       "      <td>2017-05-31</td>\n",
       "      <td>KIRAXXXXXXXXXX</td>\n",
       "      <td>KA53ESXXXX</td>\n",
       "      <td>BAJAJ PULSAR NS 200</td>\n",
       "      <td>758.0</td>\n",
       "      <td>POLISH</td>\n",
       "    </tr>\n",
       "    <tr>\n",
       "      <th>2017-06-01</th>\n",
       "      <td>2017-06-02</td>\n",
       "      <td>2017-05-31</td>\n",
       "      <td>KIRAXXXXXXXXXX</td>\n",
       "      <td>KA53ESXXXX</td>\n",
       "      <td>BAJAJ PULSAR NS 200</td>\n",
       "      <td>758.0</td>\n",
       "      <td>CONSUMABLES</td>\n",
       "    </tr>\n",
       "    <tr>\n",
       "      <th>2017-06-01</th>\n",
       "      <td>2017-06-02</td>\n",
       "      <td>2017-05-31</td>\n",
       "      <td>KIRAXXXXXXXXXX</td>\n",
       "      <td>KA53ESXXXX</td>\n",
       "      <td>BAJAJ PULSAR NS 200</td>\n",
       "      <td>758.0</td>\n",
       "      <td>COOLANT OIL</td>\n",
       "    </tr>\n",
       "  </tbody>\n",
       "</table>\n",
       "</div>"
      ],
      "text/plain": [
       "             Invoice Date Job Card Date Business Partner Name Vehicle No.  \\\n",
       "Invoice Date                                                                \n",
       "2017-05-01     2017-05-30    2017-05-30        shivXXXXXXXXXX  KA03MFXXXX   \n",
       "2017-06-01     2017-06-02    2017-05-31        KIRAXXXXXXXXXX  KA53ESXXXX   \n",
       "2017-06-01     2017-06-02    2017-05-31        KIRAXXXXXXXXXX  KA53ESXXXX   \n",
       "2017-06-01     2017-06-02    2017-05-31        KIRAXXXXXXXXXX  KA53ESXXXX   \n",
       "2017-06-01     2017-06-02    2017-05-31        KIRAXXXXXXXXXX  KA53ESXXXX   \n",
       "\n",
       "                         Vehicle Model  Current KM Reading INVOICE LINE TEXT  \n",
       "Invoice Date                                                                  \n",
       "2017-05-01    BAJAJ AVENGER STREET 220             50000.0        ENGINE OIL  \n",
       "2017-06-01         BAJAJ PULSAR NS 200               758.0        ENGINE OIL  \n",
       "2017-06-01         BAJAJ PULSAR NS 200               758.0            POLISH  \n",
       "2017-06-01         BAJAJ PULSAR NS 200               758.0       CONSUMABLES  \n",
       "2017-06-01         BAJAJ PULSAR NS 200               758.0       COOLANT OIL  "
      ]
     },
     "execution_count": 18,
     "metadata": {},
     "output_type": "execute_result"
    }
   ],
   "source": [
    "data.head()"
   ]
  },
  {
   "cell_type": "code",
   "execution_count": 19,
   "metadata": {},
   "outputs": [
    {
     "data": {
      "text/plain": [
       "BAJAJ PULSAR 150            8614\n",
       "BAJAJ AVENGER STREET 220    4212\n",
       "BAJAJ PULSAR 220            2654\n",
       "BAJAJ PULSAR 180            2251\n",
       "BAJAJ PULSAR NS 200         2203\n",
       "BAJAJ CT 100                1432\n",
       "BAJAJ DISCOVER 125          1345\n",
       "BAJAJ AVENGER STREET        1111\n",
       "BAJAJ PLATINA                843\n",
       "BAJAJ V150                   685\n",
       "BAJAJ DISCOVER               678\n",
       "BAJAJ PULSAR LS135           518\n",
       "BAJAJ PULSAR AS 200          421\n",
       "BAJAJ PULSAR NS 160          364\n",
       "BAJAJ PULSAR RS 200          322\n",
       "BAJAJ DISCOVER 150           282\n",
       "BAJAJ AVENGER STREET 180     122\n",
       "BAJAJ DISCOVER 135           115\n",
       "BAJAJ V125                    95\n",
       "BAJAJ V                       51\n",
       "BAJAJ CALIBER                 40\n",
       "BAJAJ XCD 125                 27\n",
       "BAJAJ V15                     23\n",
       "BAJAJ XCD 135                 13\n",
       "WAVE                          10\n",
       "BAJAJ DOMINAR 400 ABS          7\n",
       "BAJAJ WIND 125                 6\n",
       "BAJAJ BOXER CT                 4\n",
       "Name: Vehicle Model, dtype: int64"
      ]
     },
     "execution_count": 19,
     "metadata": {},
     "output_type": "execute_result"
    }
   ],
   "source": [
    "value_counts = data['Vehicle Model'].value_counts()\n",
    "value_counts"
   ]
  },
  {
   "cell_type": "code",
   "execution_count": 20,
   "metadata": {},
   "outputs": [
    {
     "data": {
      "text/plain": [
       "{'BAJAJ PULSAR 150': 8614,\n",
       " 'BAJAJ AVENGER STREET 220': 4212,\n",
       " 'BAJAJ PULSAR 220': 2654,\n",
       " 'BAJAJ PULSAR 180': 2251,\n",
       " 'BAJAJ PULSAR NS 200': 2203,\n",
       " 'BAJAJ CT 100': 1432,\n",
       " 'BAJAJ DISCOVER 125': 1345,\n",
       " 'BAJAJ AVENGER STREET': 1111,\n",
       " 'BAJAJ PLATINA': 843,\n",
       " 'BAJAJ V150': 685,\n",
       " 'BAJAJ DISCOVER': 678,\n",
       " 'BAJAJ PULSAR LS135': 518,\n",
       " 'BAJAJ PULSAR AS 200': 421,\n",
       " 'BAJAJ PULSAR NS 160': 364,\n",
       " 'BAJAJ PULSAR RS 200': 322,\n",
       " 'BAJAJ DISCOVER 150': 282,\n",
       " 'BAJAJ AVENGER STREET 180': 122,\n",
       " 'BAJAJ DISCOVER 135': 115,\n",
       " 'BAJAJ V125': 95,\n",
       " 'BAJAJ V': 51,\n",
       " 'BAJAJ CALIBER': 40,\n",
       " 'BAJAJ XCD 125': 27,\n",
       " 'BAJAJ V15': 23,\n",
       " 'BAJAJ XCD 135': 13,\n",
       " 'WAVE': 10,\n",
       " 'BAJAJ DOMINAR 400 ABS': 7,\n",
       " 'BAJAJ WIND 125': 6,\n",
       " 'BAJAJ BOXER CT': 4}"
      ]
     },
     "execution_count": 20,
     "metadata": {},
     "output_type": "execute_result"
    }
   ],
   "source": [
    "value_counts.to_dict()"
   ]
  }
 ],
 "metadata": {
  "kernelspec": {
   "display_name": "Python 3",
   "language": "python",
   "name": "python3"
  },
  "language_info": {
   "codemirror_mode": {
    "name": "ipython",
    "version": 3
   },
   "file_extension": ".py",
   "mimetype": "text/x-python",
   "name": "python",
   "nbconvert_exporter": "python",
   "pygments_lexer": "ipython3",
   "version": "3.7.3"
  }
 },
 "nbformat": 4,
 "nbformat_minor": 2
}
