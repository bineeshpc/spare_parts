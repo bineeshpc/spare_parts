{
 "cells": [
  {
   "cell_type": "code",
   "execution_count": 29,
   "metadata": {},
   "outputs": [],
   "source": [
    "import pandas as pd\n",
    "from statsmodels.tsa.arima_model import ARIMA\n",
    "import itertools\n",
    "import datetime\n",
    "import sys\n",
    "import warnings\n",
    "warnings.filterwarnings(\"ignore\")"
   ]
  },
  {
   "cell_type": "code",
   "execution_count": 12,
   "metadata": {},
   "outputs": [],
   "source": [
    "data = pd.read_excel('../data/service-data.xlsx')"
   ]
  },
  {
   "cell_type": "code",
   "execution_count": 13,
   "metadata": {},
   "outputs": [
    {
     "data": {
      "text/html": [
       "<div>\n",
       "<style scoped>\n",
       "    .dataframe tbody tr th:only-of-type {\n",
       "        vertical-align: middle;\n",
       "    }\n",
       "\n",
       "    .dataframe tbody tr th {\n",
       "        vertical-align: top;\n",
       "    }\n",
       "\n",
       "    .dataframe thead th {\n",
       "        text-align: right;\n",
       "    }\n",
       "</style>\n",
       "<table border=\"1\" class=\"dataframe\">\n",
       "  <thead>\n",
       "    <tr style=\"text-align: right;\">\n",
       "      <th></th>\n",
       "      <th>Invoice Date</th>\n",
       "      <th>Job Card Date</th>\n",
       "      <th>Business Partner Name</th>\n",
       "      <th>Vehicle No.</th>\n",
       "      <th>Vehicle Model</th>\n",
       "      <th>Current KM Reading</th>\n",
       "      <th>INVOICE LINE TEXT</th>\n",
       "    </tr>\n",
       "  </thead>\n",
       "  <tbody>\n",
       "    <tr>\n",
       "      <th>0</th>\n",
       "      <td>2017-05-30</td>\n",
       "      <td>2017-05-30</td>\n",
       "      <td>shivXXXXXXXXXX</td>\n",
       "      <td>KA03MFXXXX</td>\n",
       "      <td>BAJAJ AVENGER STREET 220</td>\n",
       "      <td>50000.0</td>\n",
       "      <td>ENGINE OIL</td>\n",
       "    </tr>\n",
       "    <tr>\n",
       "      <th>1</th>\n",
       "      <td>2017-06-02</td>\n",
       "      <td>2017-05-31</td>\n",
       "      <td>KIRAXXXXXXXXXX</td>\n",
       "      <td>KA53ESXXXX</td>\n",
       "      <td>BAJAJ PULSAR NS 200</td>\n",
       "      <td>758.0</td>\n",
       "      <td>ENGINE OIL</td>\n",
       "    </tr>\n",
       "  </tbody>\n",
       "</table>\n",
       "</div>"
      ],
      "text/plain": [
       "  Invoice Date Job Card Date Business Partner Name Vehicle No.  \\\n",
       "0   2017-05-30    2017-05-30        shivXXXXXXXXXX  KA03MFXXXX   \n",
       "1   2017-06-02    2017-05-31        KIRAXXXXXXXXXX  KA53ESXXXX   \n",
       "\n",
       "              Vehicle Model  Current KM Reading INVOICE LINE TEXT  \n",
       "0  BAJAJ AVENGER STREET 220             50000.0        ENGINE OIL  \n",
       "1       BAJAJ PULSAR NS 200               758.0        ENGINE OIL  "
      ]
     },
     "execution_count": 13,
     "metadata": {},
     "output_type": "execute_result"
    }
   ],
   "source": [
    "data.head(2)"
   ]
  },
  {
   "cell_type": "code",
   "execution_count": 14,
   "metadata": {},
   "outputs": [],
   "source": [
    "data.dropna(inplace=True)"
   ]
  },
  {
   "cell_type": "code",
   "execution_count": 15,
   "metadata": {},
   "outputs": [
    {
     "data": {
      "text/plain": [
       "datetime.datetime(2017, 5, 30, 0, 0)"
      ]
     },
     "execution_count": 15,
     "metadata": {},
     "output_type": "execute_result"
    }
   ],
   "source": [
    "import datetime\n",
    "\n",
    "datetime.datetime.strptime('2017-05-30', '%Y-%m-%d')"
   ]
  },
  {
   "cell_type": "code",
   "execution_count": 16,
   "metadata": {},
   "outputs": [],
   "source": [
    "data.index = data['Invoice Date'].apply(lambda x: datetime.datetime.strptime(f'{x.year}-{x.month}', '%Y-%m'))"
   ]
  },
  {
   "cell_type": "code",
   "execution_count": 17,
   "metadata": {},
   "outputs": [
    {
     "data": {
      "text/html": [
       "<div>\n",
       "<style scoped>\n",
       "    .dataframe tbody tr th:only-of-type {\n",
       "        vertical-align: middle;\n",
       "    }\n",
       "\n",
       "    .dataframe tbody tr th {\n",
       "        vertical-align: top;\n",
       "    }\n",
       "\n",
       "    .dataframe thead th {\n",
       "        text-align: right;\n",
       "    }\n",
       "</style>\n",
       "<table border=\"1\" class=\"dataframe\">\n",
       "  <thead>\n",
       "    <tr style=\"text-align: right;\">\n",
       "      <th></th>\n",
       "      <th>Invoice Date</th>\n",
       "      <th>Job Card Date</th>\n",
       "      <th>Business Partner Name</th>\n",
       "      <th>Vehicle No.</th>\n",
       "      <th>Vehicle Model</th>\n",
       "      <th>Current KM Reading</th>\n",
       "      <th>INVOICE LINE TEXT</th>\n",
       "    </tr>\n",
       "    <tr>\n",
       "      <th>Invoice Date</th>\n",
       "      <th></th>\n",
       "      <th></th>\n",
       "      <th></th>\n",
       "      <th></th>\n",
       "      <th></th>\n",
       "      <th></th>\n",
       "      <th></th>\n",
       "    </tr>\n",
       "  </thead>\n",
       "  <tbody>\n",
       "    <tr>\n",
       "      <th>2017-06-01</th>\n",
       "      <td>2017-06-12</td>\n",
       "      <td>2017-06-12</td>\n",
       "      <td>jmkXXXXXXXXXX</td>\n",
       "      <td>KHXXXX</td>\n",
       "      <td>BAJAJ BOXER CT</td>\n",
       "      <td>3655.0</td>\n",
       "      <td>SPARK PLUG</td>\n",
       "    </tr>\n",
       "    <tr>\n",
       "      <th>2017-06-01</th>\n",
       "      <td>2017-06-12</td>\n",
       "      <td>2017-06-12</td>\n",
       "      <td>jmkXXXXXXXXXX</td>\n",
       "      <td>KHXXXX</td>\n",
       "      <td>BAJAJ BOXER CT</td>\n",
       "      <td>3655.0</td>\n",
       "      <td>AIR FILTER CHECKUP</td>\n",
       "    </tr>\n",
       "    <tr>\n",
       "      <th>2017-06-01</th>\n",
       "      <td>2017-06-12</td>\n",
       "      <td>2017-06-12</td>\n",
       "      <td>jmkXXXXXXXXXX</td>\n",
       "      <td>KHXXXX</td>\n",
       "      <td>BAJAJ BOXER CT</td>\n",
       "      <td>3655.0</td>\n",
       "      <td>GENERAL SERVICE</td>\n",
       "    </tr>\n",
       "    <tr>\n",
       "      <th>2017-06-01</th>\n",
       "      <td>2017-06-12</td>\n",
       "      <td>2017-06-12</td>\n",
       "      <td>jmkXXXXXXXXXX</td>\n",
       "      <td>KHXXXX</td>\n",
       "      <td>BAJAJ BOXER CT</td>\n",
       "      <td>3655.0</td>\n",
       "      <td>MIRROR ADJUSTMENT</td>\n",
       "    </tr>\n",
       "  </tbody>\n",
       "</table>\n",
       "</div>"
      ],
      "text/plain": [
       "             Invoice Date Job Card Date Business Partner Name Vehicle No.  \\\n",
       "Invoice Date                                                                \n",
       "2017-06-01     2017-06-12    2017-06-12         jmkXXXXXXXXXX      KHXXXX   \n",
       "2017-06-01     2017-06-12    2017-06-12         jmkXXXXXXXXXX      KHXXXX   \n",
       "2017-06-01     2017-06-12    2017-06-12         jmkXXXXXXXXXX      KHXXXX   \n",
       "2017-06-01     2017-06-12    2017-06-12         jmkXXXXXXXXXX      KHXXXX   \n",
       "\n",
       "               Vehicle Model  Current KM Reading   INVOICE LINE TEXT  \n",
       "Invoice Date                                                          \n",
       "2017-06-01    BAJAJ BOXER CT              3655.0          SPARK PLUG  \n",
       "2017-06-01    BAJAJ BOXER CT              3655.0  AIR FILTER CHECKUP  \n",
       "2017-06-01    BAJAJ BOXER CT              3655.0     GENERAL SERVICE  \n",
       "2017-06-01    BAJAJ BOXER CT              3655.0   MIRROR ADJUSTMENT  "
      ]
     },
     "execution_count": 17,
     "metadata": {},
     "output_type": "execute_result"
    }
   ],
   "source": [
    "data[data['Vehicle Model'] == 'BAJAJ BOXER CT']"
   ]
  },
  {
   "cell_type": "code",
   "execution_count": 18,
   "metadata": {},
   "outputs": [
    {
     "data": {
      "text/html": [
       "<div>\n",
       "<style scoped>\n",
       "    .dataframe tbody tr th:only-of-type {\n",
       "        vertical-align: middle;\n",
       "    }\n",
       "\n",
       "    .dataframe tbody tr th {\n",
       "        vertical-align: top;\n",
       "    }\n",
       "\n",
       "    .dataframe thead th {\n",
       "        text-align: right;\n",
       "    }\n",
       "</style>\n",
       "<table border=\"1\" class=\"dataframe\">\n",
       "  <thead>\n",
       "    <tr style=\"text-align: right;\">\n",
       "      <th></th>\n",
       "      <th>Invoice Date</th>\n",
       "      <th>Job Card Date</th>\n",
       "      <th>Business Partner Name</th>\n",
       "      <th>Vehicle No.</th>\n",
       "      <th>Vehicle Model</th>\n",
       "      <th>Current KM Reading</th>\n",
       "      <th>INVOICE LINE TEXT</th>\n",
       "    </tr>\n",
       "    <tr>\n",
       "      <th>Invoice Date</th>\n",
       "      <th></th>\n",
       "      <th></th>\n",
       "      <th></th>\n",
       "      <th></th>\n",
       "      <th></th>\n",
       "      <th></th>\n",
       "      <th></th>\n",
       "    </tr>\n",
       "  </thead>\n",
       "  <tbody>\n",
       "    <tr>\n",
       "      <th>2017-05-01</th>\n",
       "      <td>2017-05-30</td>\n",
       "      <td>2017-05-30</td>\n",
       "      <td>shivXXXXXXXXXX</td>\n",
       "      <td>KA03MFXXXX</td>\n",
       "      <td>BAJAJ AVENGER STREET 220</td>\n",
       "      <td>50000.0</td>\n",
       "      <td>ENGINE OIL</td>\n",
       "    </tr>\n",
       "    <tr>\n",
       "      <th>2017-06-01</th>\n",
       "      <td>2017-06-02</td>\n",
       "      <td>2017-05-31</td>\n",
       "      <td>KIRAXXXXXXXXXX</td>\n",
       "      <td>KA53ESXXXX</td>\n",
       "      <td>BAJAJ PULSAR NS 200</td>\n",
       "      <td>758.0</td>\n",
       "      <td>ENGINE OIL</td>\n",
       "    </tr>\n",
       "    <tr>\n",
       "      <th>2017-06-01</th>\n",
       "      <td>2017-06-02</td>\n",
       "      <td>2017-05-31</td>\n",
       "      <td>KIRAXXXXXXXXXX</td>\n",
       "      <td>KA53ESXXXX</td>\n",
       "      <td>BAJAJ PULSAR NS 200</td>\n",
       "      <td>758.0</td>\n",
       "      <td>POLISH</td>\n",
       "    </tr>\n",
       "    <tr>\n",
       "      <th>2017-06-01</th>\n",
       "      <td>2017-06-02</td>\n",
       "      <td>2017-05-31</td>\n",
       "      <td>KIRAXXXXXXXXXX</td>\n",
       "      <td>KA53ESXXXX</td>\n",
       "      <td>BAJAJ PULSAR NS 200</td>\n",
       "      <td>758.0</td>\n",
       "      <td>CONSUMABLES</td>\n",
       "    </tr>\n",
       "    <tr>\n",
       "      <th>2017-06-01</th>\n",
       "      <td>2017-06-02</td>\n",
       "      <td>2017-05-31</td>\n",
       "      <td>KIRAXXXXXXXXXX</td>\n",
       "      <td>KA53ESXXXX</td>\n",
       "      <td>BAJAJ PULSAR NS 200</td>\n",
       "      <td>758.0</td>\n",
       "      <td>COOLANT OIL</td>\n",
       "    </tr>\n",
       "  </tbody>\n",
       "</table>\n",
       "</div>"
      ],
      "text/plain": [
       "             Invoice Date Job Card Date Business Partner Name Vehicle No.  \\\n",
       "Invoice Date                                                                \n",
       "2017-05-01     2017-05-30    2017-05-30        shivXXXXXXXXXX  KA03MFXXXX   \n",
       "2017-06-01     2017-06-02    2017-05-31        KIRAXXXXXXXXXX  KA53ESXXXX   \n",
       "2017-06-01     2017-06-02    2017-05-31        KIRAXXXXXXXXXX  KA53ESXXXX   \n",
       "2017-06-01     2017-06-02    2017-05-31        KIRAXXXXXXXXXX  KA53ESXXXX   \n",
       "2017-06-01     2017-06-02    2017-05-31        KIRAXXXXXXXXXX  KA53ESXXXX   \n",
       "\n",
       "                         Vehicle Model  Current KM Reading INVOICE LINE TEXT  \n",
       "Invoice Date                                                                  \n",
       "2017-05-01    BAJAJ AVENGER STREET 220             50000.0        ENGINE OIL  \n",
       "2017-06-01         BAJAJ PULSAR NS 200               758.0        ENGINE OIL  \n",
       "2017-06-01         BAJAJ PULSAR NS 200               758.0            POLISH  \n",
       "2017-06-01         BAJAJ PULSAR NS 200               758.0       CONSUMABLES  \n",
       "2017-06-01         BAJAJ PULSAR NS 200               758.0       COOLANT OIL  "
      ]
     },
     "execution_count": 18,
     "metadata": {},
     "output_type": "execute_result"
    }
   ],
   "source": [
    "data.head()"
   ]
  },
  {
   "cell_type": "code",
   "execution_count": 19,
   "metadata": {},
   "outputs": [
    {
     "data": {
      "text/plain": [
       "BAJAJ PULSAR 150            8614\n",
       "BAJAJ AVENGER STREET 220    4212\n",
       "BAJAJ PULSAR 220            2654\n",
       "BAJAJ PULSAR 180            2251\n",
       "BAJAJ PULSAR NS 200         2203\n",
       "BAJAJ CT 100                1432\n",
       "BAJAJ DISCOVER 125          1345\n",
       "BAJAJ AVENGER STREET        1111\n",
       "BAJAJ PLATINA                843\n",
       "BAJAJ V150                   685\n",
       "BAJAJ DISCOVER               678\n",
       "BAJAJ PULSAR LS135           518\n",
       "BAJAJ PULSAR AS 200          421\n",
       "BAJAJ PULSAR NS 160          364\n",
       "BAJAJ PULSAR RS 200          322\n",
       "BAJAJ DISCOVER 150           282\n",
       "BAJAJ AVENGER STREET 180     122\n",
       "BAJAJ DISCOVER 135           115\n",
       "BAJAJ V125                    95\n",
       "BAJAJ V                       51\n",
       "BAJAJ CALIBER                 40\n",
       "BAJAJ XCD 125                 27\n",
       "BAJAJ V15                     23\n",
       "BAJAJ XCD 135                 13\n",
       "WAVE                          10\n",
       "BAJAJ DOMINAR 400 ABS          7\n",
       "BAJAJ WIND 125                 6\n",
       "BAJAJ BOXER CT                 4\n",
       "Name: Vehicle Model, dtype: int64"
      ]
     },
     "execution_count": 19,
     "metadata": {},
     "output_type": "execute_result"
    }
   ],
   "source": [
    "value_counts = data['Vehicle Model'].value_counts()\n",
    "value_counts"
   ]
  },
  {
   "cell_type": "code",
   "execution_count": 20,
   "metadata": {},
   "outputs": [
    {
     "data": {
      "text/plain": [
       "{'BAJAJ PULSAR 150': 8614,\n",
       " 'BAJAJ AVENGER STREET 220': 4212,\n",
       " 'BAJAJ PULSAR 220': 2654,\n",
       " 'BAJAJ PULSAR 180': 2251,\n",
       " 'BAJAJ PULSAR NS 200': 2203,\n",
       " 'BAJAJ CT 100': 1432,\n",
       " 'BAJAJ DISCOVER 125': 1345,\n",
       " 'BAJAJ AVENGER STREET': 1111,\n",
       " 'BAJAJ PLATINA': 843,\n",
       " 'BAJAJ V150': 685,\n",
       " 'BAJAJ DISCOVER': 678,\n",
       " 'BAJAJ PULSAR LS135': 518,\n",
       " 'BAJAJ PULSAR AS 200': 421,\n",
       " 'BAJAJ PULSAR NS 160': 364,\n",
       " 'BAJAJ PULSAR RS 200': 322,\n",
       " 'BAJAJ DISCOVER 150': 282,\n",
       " 'BAJAJ AVENGER STREET 180': 122,\n",
       " 'BAJAJ DISCOVER 135': 115,\n",
       " 'BAJAJ V125': 95,\n",
       " 'BAJAJ V': 51,\n",
       " 'BAJAJ CALIBER': 40,\n",
       " 'BAJAJ XCD 125': 27,\n",
       " 'BAJAJ V15': 23,\n",
       " 'BAJAJ XCD 135': 13,\n",
       " 'WAVE': 10,\n",
       " 'BAJAJ DOMINAR 400 ABS': 7,\n",
       " 'BAJAJ WIND 125': 6,\n",
       " 'BAJAJ BOXER CT': 4}"
      ]
     },
     "execution_count": 20,
     "metadata": {},
     "output_type": "execute_result"
    }
   ],
   "source": [
    "value_counts.to_dict()"
   ]
  },
  {
   "cell_type": "code",
   "execution_count": 21,
   "metadata": {},
   "outputs": [],
   "source": [
    "prefix = 'Vehicle Model'\n",
    "column = 'Vehicle Model'\n",
    "data = pd.get_dummies(data, columns=[column], prefix=prefix)\n"
   ]
  },
  {
   "cell_type": "code",
   "execution_count": 24,
   "metadata": {},
   "outputs": [],
   "source": [
    "dummy_columns = [i for i in data.columns if prefix in i]\n",
    "\n",
    "dummy_columns_dict = {i: 'sum' for i in dummy_columns}\n",
    "\n",
    "\n",
    "date_format = '%Y-%m-%d'\n",
    "first_good_month = datetime.datetime.strptime('2017-06-01', date_format)\n",
    "last_good_month = datetime.datetime.strptime('2018-12-31', date_format)\n",
    "data = data [ (data.index >= first_good_month) & (data.index <= last_good_month)]"
   ]
  },
  {
   "cell_type": "code",
   "execution_count": 25,
   "metadata": {},
   "outputs": [],
   "source": [
    "data_grouped = data[dummy_columns].groupby(data.index).agg(dummy_columns_dict)"
   ]
  },
  {
   "cell_type": "code",
   "execution_count": 30,
   "metadata": {},
   "outputs": [],
   "source": [
    "def get_models(data_grouped, dummy_columns):\n",
    "    models = {}\n",
    "    for dummy_column in dummy_columns:\n",
    "        data_for_model = data_grouped[dummy_column]\n",
    "        r = range(0, 2)\n",
    "        min_aic = sys.maxsize\n",
    "\n",
    "        for p, d, q in itertools.product(r, r, r):\n",
    "            try:\n",
    "                model_arima = ARIMA(data_for_model, order=(p, d, q))\n",
    "                model_arima_fit = model_arima.fit()\n",
    "                pred = model_arima_fit.forecast(steps=9)[0]\n",
    "                # print(p, d, q, pred, model_arima_fit.aic)\n",
    "                if model_arima_fit.aic < min_aic:\n",
    "                    result = (p, d, q, pred, model_arima_fit.aic)\n",
    "                    min_aic = model_arima_fit.aic\n",
    "            except:\n",
    "                pass\n",
    "                # print(p, d, q, 'bad')\n",
    "        # print(invoice_line, result)\n",
    "        models[dummy_column] = (model_arima, model_arima_fit)\n",
    "    return models\n",
    "\n",
    "models = get_models(data_grouped, dummy_columns)"
   ]
  },
  {
   "cell_type": "code",
   "execution_count": 31,
   "metadata": {},
   "outputs": [
    {
     "data": {
      "text/plain": [
       "{'Vehicle Model_BAJAJ AVENGER STREET': (<statsmodels.tsa.arima_model.ARIMA at 0x289caece240>,\n",
       "  <statsmodels.tsa.arima_model.ARIMAResultsWrapper at 0x289caee5828>),\n",
       " 'Vehicle Model_BAJAJ AVENGER STREET 180': (<statsmodels.tsa.arima_model.ARIMA at 0x289caece208>,\n",
       "  <statsmodels.tsa.arima_model.ARIMAResultsWrapper at 0x289caee5fd0>),\n",
       " 'Vehicle Model_BAJAJ AVENGER STREET 220': (<statsmodels.tsa.arima_model.ARIMA at 0x289c8669e80>,\n",
       "  <statsmodels.tsa.arima_model.ARIMAResultsWrapper at 0x289caf162b0>),\n",
       " 'Vehicle Model_BAJAJ BOXER CT': (<statsmodels.tsa.arima_model.ARIMA at 0x289caee5c18>,\n",
       "  <statsmodels.tsa.arima_model.ARIMAResultsWrapper at 0x289caf16128>),\n",
       " 'Vehicle Model_BAJAJ CALIBER': (<statsmodels.tsa.arima_model.ARIMA at 0x289caf16710>,\n",
       "  <statsmodels.tsa.arima_model.ARIMAResultsWrapper at 0x289caf16f60>),\n",
       " 'Vehicle Model_BAJAJ CT 100': (<statsmodels.tsa.arima_model.ARIMA at 0x289c2c1b978>,\n",
       "  <statsmodels.tsa.arima_model.ARIMAResultsWrapper at 0x289c53c9fd0>),\n",
       " 'Vehicle Model_BAJAJ DISCOVER': (<statsmodels.tsa.arima_model.ARIMA at 0x289c95f2c18>,\n",
       "  <statsmodels.tsa.arima_model.ARIMAResultsWrapper at 0x289c8945ac8>),\n",
       " 'Vehicle Model_BAJAJ DISCOVER 125': (<statsmodels.tsa.arima_model.ARIMA at 0x289c8945240>,\n",
       "  <statsmodels.tsa.arima_model.ARIMAResultsWrapper at 0x289c87ff390>),\n",
       " 'Vehicle Model_BAJAJ DISCOVER 135': (<statsmodels.tsa.arima_model.ARIMA at 0x289c8dc4048>,\n",
       "  <statsmodels.tsa.arima_model.ARIMAResultsWrapper at 0x289c87ff748>),\n",
       " 'Vehicle Model_BAJAJ DISCOVER 150': (<statsmodels.tsa.arima_model.ARIMA at 0x289c5345a90>,\n",
       "  <statsmodels.tsa.arima_model.ARIMAResultsWrapper at 0x289c87fff28>),\n",
       " 'Vehicle Model_BAJAJ DOMINAR 400 ABS': (<statsmodels.tsa.arima_model.ARIMA at 0x289c87ffb70>,\n",
       "  <statsmodels.tsa.arima_model.ARIMAResultsWrapper at 0x289c87ff780>),\n",
       " 'Vehicle Model_BAJAJ PLATINA': (<statsmodels.tsa.arima_model.ARIMA at 0x289c87ff128>,\n",
       "  <statsmodels.tsa.arima_model.ARIMAResultsWrapper at 0x289c88ea390>),\n",
       " 'Vehicle Model_BAJAJ PULSAR 150': (<statsmodels.tsa.arima_model.ARIMA at 0x289c87ffe80>,\n",
       "  <statsmodels.tsa.arima_model.ARIMAResultsWrapper at 0x289c88eac50>),\n",
       " 'Vehicle Model_BAJAJ PULSAR 180': (<statsmodels.tsa.arima_model.ARIMA at 0x289c87ffdd8>,\n",
       "  <statsmodels.tsa.arima_model.ARIMAResultsWrapper at 0x289c88ea9b0>),\n",
       " 'Vehicle Model_BAJAJ PULSAR 220': (<statsmodels.tsa.arima_model.ARIMA at 0x289c88eaac8>,\n",
       "  <statsmodels.tsa.arima_model.ARIMAResultsWrapper at 0x289c8805b00>),\n",
       " 'Vehicle Model_BAJAJ PULSAR AS 200': (<statsmodels.tsa.arima_model.ARIMA at 0x289c88ea438>,\n",
       "  <statsmodels.tsa.arima_model.ARIMAResultsWrapper at 0x289c88054e0>),\n",
       " 'Vehicle Model_BAJAJ PULSAR LS135': (<statsmodels.tsa.arima_model.ARIMA at 0x289c88eac88>,\n",
       "  <statsmodels.tsa.arima_model.ARIMAResultsWrapper at 0x289c88051d0>),\n",
       " 'Vehicle Model_BAJAJ PULSAR NS 160': (<statsmodels.tsa.arima_model.ARIMA at 0x289c88050b8>,\n",
       "  <statsmodels.tsa.arima_model.ARIMAResultsWrapper at 0x289c8805588>),\n",
       " 'Vehicle Model_BAJAJ PULSAR NS 200': (<statsmodels.tsa.arima_model.ARIMA at 0x289c8805be0>,\n",
       "  <statsmodels.tsa.arima_model.ARIMAResultsWrapper at 0x289c8805ef0>),\n",
       " 'Vehicle Model_BAJAJ PULSAR RS 200': (<statsmodels.tsa.arima_model.ARIMA at 0x289c88057f0>,\n",
       "  <statsmodels.tsa.arima_model.ARIMAResultsWrapper at 0x289c87e9908>),\n",
       " 'Vehicle Model_BAJAJ V': (<statsmodels.tsa.arima_model.ARIMA at 0x289c87e9518>,\n",
       "  <statsmodels.tsa.arima_model.ARIMAResultsWrapper at 0x289c87e9390>),\n",
       " 'Vehicle Model_BAJAJ V125': (<statsmodels.tsa.arima_model.ARIMA at 0x289c87e9e48>,\n",
       "  <statsmodels.tsa.arima_model.ARIMAResultsWrapper at 0x289c87e9080>),\n",
       " 'Vehicle Model_BAJAJ V15': (<statsmodels.tsa.arima_model.ARIMA at 0x289c87e96d8>,\n",
       "  <statsmodels.tsa.arima_model.ARIMAResultsWrapper at 0x289c87e9dd8>),\n",
       " 'Vehicle Model_BAJAJ V150': (<statsmodels.tsa.arima_model.ARIMA at 0x289c885bdd8>,\n",
       "  <statsmodels.tsa.arima_model.ARIMAResultsWrapper at 0x289c885bc50>),\n",
       " 'Vehicle Model_BAJAJ WIND 125': (<statsmodels.tsa.arima_model.ARIMA at 0x289c885bd30>,\n",
       "  <statsmodels.tsa.arima_model.ARIMAResultsWrapper at 0x289c885b940>),\n",
       " 'Vehicle Model_BAJAJ XCD 125': (<statsmodels.tsa.arima_model.ARIMA at 0x289c885beb8>,\n",
       "  <statsmodels.tsa.arima_model.ARIMAResultsWrapper at 0x289c88ad2b0>),\n",
       " 'Vehicle Model_BAJAJ XCD 135': (<statsmodels.tsa.arima_model.ARIMA at 0x289c885ba20>,\n",
       "  <statsmodels.tsa.arima_model.ARIMAResultsWrapper at 0x289c88adcc0>),\n",
       " 'Vehicle Model_WAVE': (<statsmodels.tsa.arima_model.ARIMA at 0x289c88ad320>,\n",
       "  <statsmodels.tsa.arima_model.ARIMAResultsWrapper at 0x289c88adf98>)}"
      ]
     },
     "execution_count": 31,
     "metadata": {},
     "output_type": "execute_result"
    }
   ],
   "source": [
    "\n",
    "models"
   ]
  }
 ],
 "metadata": {
  "kernelspec": {
   "display_name": "Python 3",
   "language": "python",
   "name": "python3"
  },
  "language_info": {
   "codemirror_mode": {
    "name": "ipython",
    "version": 3
   },
   "file_extension": ".py",
   "mimetype": "text/x-python",
   "name": "python",
   "nbconvert_exporter": "python",
   "pygments_lexer": "ipython3",
   "version": "3.7.3"
  }
 },
 "nbformat": 4,
 "nbformat_minor": 2
}
